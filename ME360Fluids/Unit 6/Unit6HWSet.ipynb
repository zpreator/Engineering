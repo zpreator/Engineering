{
 "cells": [
  {
   "cell_type": "markdown",
   "metadata": {},
   "source": [
    "# Unit 6 Homework Set"
   ]
  },
  {
   "cell_type": "markdown",
   "metadata": {},
   "source": [
    "#### Question 1"
   ]
  },
  {
   "cell_type": "markdown",
   "metadata": {},
   "source": [
    "Two schedule 40 PVC pipes are connected in series. The first pipe has a diameter D1 and\n",
    "length L1, and the second has a diameter and length of D2 and L2. The inlet velocity is V1.\n",
    "Neglecting minor losses, find the head loss in the piping system and the fraction of the total\n",
    "head loss that occurs in the second pipe. (Numbers will be provided on Maple TA.)"
   ]
  },
  {
   "cell_type": "markdown",
   "metadata": {},
   "source": [
    "Use conservation of mass, which turns into equal volume flow rates <br>\n",
    "$v_1 A_1 = v_2 A_2$ <br>\n",
    "$v_1 \\frac{\\pi {D_1}^2}{4} = v_2 \\frac{\\pi {D_2}^2}{4}$ <br>\n",
    "which turns into <br>\n",
    "$v_1 {D_1}^2 = v_2 {D_2}^2$ or $\\frac{v_1}{v_2} = \\left( \\frac{D_2}{D_1} \\right)^2$ <br>\n",
    "so $v_2 = v_1 \\left(\\frac{D_1}{D_2}\\right)^2$"
   ]
  },
  {
   "cell_type": "markdown",
   "metadata": {},
   "source": [
    "Use diameters of Schedule 40 pipe and head loss equation and reynolds number and relative roughness <br>\n",
    "$h_L = f \\frac{L}{D} \\frac{v^2}{2g}$ <br>\n",
    "$Re = \\frac{V D}{\\nu}$ <br>\n",
    "Since it's PVC relative roughness is 0"
   ]
  },
  {
   "cell_type": "code",
   "execution_count": 32,
   "metadata": {},
   "outputs": [
    {
     "data": {
      "text/plain": [
       "99333.95004625348"
      ]
     },
     "execution_count": 32,
     "metadata": {},
     "output_type": "execute_result"
    }
   ],
   "source": [
    "from sympy import *\n",
    "import numpy as np\n",
    "from IsaacsPackage.fluids import haaland\n",
    "import matplotlib.pyplot as plt\n",
    "l1 = 80\n",
    "d1 = 3.068/12\n",
    "l2 = 10\n",
    "d2 = 1.049/12\n",
    "v1 = 4.2\n",
    "v2 = v1*(d1/d2)**2\n",
    "nu = 1.081e-5\n",
    "g = 32.2\n",
    "Re1 = v1*d1/nu\n",
    "Re2 = v2*d2/nu\n",
    "Re1\n"
   ]
  },
  {
   "cell_type": "code",
   "execution_count": 52,
   "metadata": {},
   "outputs": [
    {
     "data": {
      "text/plain": [
       "290521.0283526269"
      ]
     },
     "execution_count": 52,
     "metadata": {},
     "output_type": "execute_result"
    }
   ],
   "source": [
    "Re2"
   ]
  },
  {
   "cell_type": "code",
   "execution_count": 70,
   "metadata": {},
   "outputs": [
    {
     "data": {
      "text/plain": [
       "0.01784956100531058"
      ]
     },
     "execution_count": 70,
     "metadata": {},
     "output_type": "execute_result"
    }
   ],
   "source": [
    "f1 = haaland(Re1,0)\n",
    "f2 = haaland(Re2,0)\n",
    "hl1 = f1*l1/d1*v1**2/2/g\n",
    "hl2 = f2*l2/d2*v2**2/2/g\n",
    "hltot = hl1+hl2\n",
    "f1"
   ]
  },
  {
   "cell_type": "code",
   "execution_count": 71,
   "metadata": {},
   "outputs": [
    {
     "data": {
      "text/plain": [
       "0.014432816521745868"
      ]
     },
     "execution_count": 71,
     "metadata": {},
     "output_type": "execute_result"
    }
   ],
   "source": [
    "f2"
   ]
  },
  {
   "cell_type": "code",
   "execution_count": 72,
   "metadata": {},
   "outputs": [
    {
     "data": {
      "text/plain": [
       "1.5298756442395323"
      ]
     },
     "execution_count": 72,
     "metadata": {},
     "output_type": "execute_result"
    }
   ],
   "source": [
    "hl1"
   ]
  },
  {
   "cell_type": "code",
   "execution_count": 73,
   "metadata": {},
   "outputs": [
    {
     "data": {
      "text/plain": [
       "33.08941051271717"
      ]
     },
     "execution_count": 73,
     "metadata": {},
     "output_type": "execute_result"
    }
   ],
   "source": [
    "hl2"
   ]
  },
  {
   "cell_type": "code",
   "execution_count": 74,
   "metadata": {},
   "outputs": [
    {
     "data": {
      "text/plain": [
       "34.619286156956704"
      ]
     },
     "execution_count": 74,
     "metadata": {},
     "output_type": "execute_result"
    }
   ],
   "source": [
    "hltot"
   ]
  },
  {
   "cell_type": "code",
   "execution_count": 75,
   "metadata": {},
   "outputs": [
    {
     "data": {
      "text/plain": [
       "0.9558085733685151"
      ]
     },
     "execution_count": 75,
     "metadata": {},
     "output_type": "execute_result"
    }
   ],
   "source": [
    "hl2/hltot"
   ]
  },
  {
   "cell_type": "markdown",
   "metadata": {},
   "source": [
    "#### Question 2"
   ]
  },
  {
   "cell_type": "markdown",
   "metadata": {},
   "source": [
    "A pipe of length and diameter L and D is used to drain a water tank. There is a sharp-edged\n",
    "inlet to the pipe, three 90◦\n",
    "elbows, and a fully-open globe valve. The pipe exit is z below the\n",
    "water level in the tank. Find the volume flow rate from the tank. (Numbers will be provided\n",
    "on Maple TA.)"
   ]
  },
  {
   "cell_type": "markdown",
   "metadata": {},
   "source": [
    "Use energy equation which simplifies to <br>\n",
    "$z = \\frac{v^2}{2g} + h_L = \\left(\\frac{fL}{D} + \\Sigma K + 1\\right)\\frac{8 \\dot V^2}{\\pi^2 g D^4}$ <br>\n",
    "Solve for $\\dot V$ <br>\n",
    "$\\dot V = \\sqrt{\\frac{z D^4 \\pi^2 g}{8 \\left(\\frac{fL}{D}+\\Sigma K + 1\\right)}}$\n",
    "and Reynolds number <br>\n",
    "$Re = \\frac{4 \\dot V}{\\pi \\nu D}$ <br>\n",
    "and put both in terms of volume flow rate and iterate <br>\n",
    "Remember to calculate your $\\Sigma K$"
   ]
  },
  {
   "cell_type": "code",
   "execution_count": 164,
   "metadata": {},
   "outputs": [
    {
     "data": {
      "text/plain": [
       "24155559.566214435"
      ]
     },
     "execution_count": 164,
     "metadata": {},
     "output_type": "execute_result"
    }
   ],
   "source": [
    "e = 0.15/1000 #m\n",
    "L = 54 #m\n",
    "D = 5.25/100 #m\n",
    "K = 0.50 + 3*0.9 + 10\n",
    "z = 20\n",
    "g = 9.81\n",
    "nu = 1.004e-6\n",
    "def vDotf(f):\n",
    "    return np.sqrt(z*np.pi**2*g*D**4/8/(f*L/D + K + 1))\n",
    "eD = e/D\n",
    "RevDot = 4/np.pi/nu/D\n",
    "RevDot"
   ]
  },
  {
   "cell_type": "markdown",
   "metadata": {},
   "source": [
    "Guess a friction factor, 0.015"
   ]
  },
  {
   "cell_type": "code",
   "execution_count": 165,
   "metadata": {},
   "outputs": [
    {
     "data": {
      "text/plain": [
       "0.007878030022086037"
      ]
     },
     "execution_count": 165,
     "metadata": {},
     "output_type": "execute_result"
    }
   ],
   "source": [
    "f = 0.015\n",
    "vDot = vDotf(f)\n",
    "vDot"
   ]
  },
  {
   "cell_type": "code",
   "execution_count": 166,
   "metadata": {},
   "outputs": [
    {
     "data": {
      "text/plain": [
       "0.006658968366721233"
      ]
     },
     "execution_count": 166,
     "metadata": {},
     "output_type": "execute_result"
    }
   ],
   "source": [
    "Re = RevDot*vDot\n",
    "f = haaland(Re,eD)\n",
    "vDot = vDotf(f)\n",
    "vDot"
   ]
  },
  {
   "cell_type": "code",
   "execution_count": 167,
   "metadata": {},
   "outputs": [
    {
     "data": {
      "text/plain": [
       "0.006649486510680272"
      ]
     },
     "execution_count": 167,
     "metadata": {},
     "output_type": "execute_result"
    }
   ],
   "source": [
    "Re = RevDot*vDot\n",
    "f = haaland(Re,eD)\n",
    "vDot = vDotf(f)\n",
    "vDot"
   ]
  },
  {
   "cell_type": "code",
   "execution_count": 168,
   "metadata": {},
   "outputs": [
    {
     "data": {
      "text/plain": [
       "0.006649399782810679"
      ]
     },
     "execution_count": 168,
     "metadata": {},
     "output_type": "execute_result"
    }
   ],
   "source": [
    "Re = RevDot*vDot\n",
    "f = haaland(Re,eD)\n",
    "vDot = vDotf(f)\n",
    "vDot"
   ]
  },
  {
   "cell_type": "code",
   "execution_count": 169,
   "metadata": {},
   "outputs": [
    {
     "data": {
      "text/plain": [
       "0.00664939898844782"
      ]
     },
     "execution_count": 169,
     "metadata": {},
     "output_type": "execute_result"
    }
   ],
   "source": [
    "Re = RevDot*vDot\n",
    "f = haaland(Re,eD)\n",
    "vDot = vDotf(f)\n",
    "vDot"
   ]
  },
  {
   "cell_type": "code",
   "execution_count": 170,
   "metadata": {},
   "outputs": [
    {
     "data": {
      "text/plain": [
       "398.9639393068692"
      ]
     },
     "execution_count": 170,
     "metadata": {},
     "output_type": "execute_result"
    }
   ],
   "source": [
    "vDot*60000"
   ]
  },
  {
   "cell_type": "markdown",
   "metadata": {},
   "source": [
    "#### Question 3"
   ]
  },
  {
   "cell_type": "markdown",
   "metadata": {},
   "source": [
    "A steel pipe is required to deliver water at a flow rate of $\\dot V$ a distance of L. The water source\n",
    "can provide a maximum pressure of P. (Numbers will be provided on Maple TA.)<br>\n",
    "(a) Neglecting minor losses, what is the minimum standard pipe size? <br>\n",
    "(b) For that size pipe, what is the actual pressure drop in the line? <br>\n",
    "(c) If there is a fully open globe valve and N regular elbows in the line, determine the\n",
    "minimum standard pipe size. <br>\n",
    "(d) With the minor losses and that pipe diameter, what is the pressure drop in the line?"
   ]
  },
  {
   "cell_type": "markdown",
   "metadata": {},
   "source": [
    "$\\frac{P}{\\gamma} = h_L = f\\frac{L}{D}\\frac{8 {\\dot V}^2}{\\pi^2 g D^4}$ <br> so <br>\n",
    "$D = \\left(\\frac{8fL{\\dot V}^2\\gamma}{P \\pi^2 g}\\right)^{1/5}$\n",
    "<br> and <br>\n",
    "$Re = \\frac{4 \\dot V}{\\pi \\nu D} = \\left(\\frac{4 \\dot V}{\\pi \\nu}\\right) \\frac{1}{D}$"
   ]
  },
  {
   "cell_type": "code",
   "execution_count": 153,
   "metadata": {},
   "outputs": [],
   "source": [
    "vDot = 5/449\n",
    "L = 108\n",
    "P = 32*144 #lb/ft^2\n",
    "ga = 62.3\n",
    "g = 32.2\n",
    "nu = 1.081e-5\n",
    "e = 0.00015\n",
    "def df(f):\n",
    "    return (8*f*L*vDot**2*ga/P/np.pi**2/g)**(1/5)\n",
    "Red = 4*vDot/np.pi/nu"
   ]
  },
  {
   "cell_type": "markdown",
   "metadata": {},
   "source": [
    "Guess friction factor of 0.015 I guess"
   ]
  },
  {
   "cell_type": "code",
   "execution_count": 141,
   "metadata": {},
   "outputs": [
    {
     "data": {
      "text/plain": [
       "0.4427470778607331"
      ]
     },
     "execution_count": 141,
     "metadata": {},
     "output_type": "execute_result"
    }
   ],
   "source": [
    "D = df(0.015)\n",
    "D*12"
   ]
  },
  {
   "cell_type": "code",
   "execution_count": 142,
   "metadata": {},
   "outputs": [
    {
     "data": {
      "text/plain": [
       "0.5124913935206747"
      ]
     },
     "execution_count": 142,
     "metadata": {},
     "output_type": "execute_result"
    }
   ],
   "source": [
    "Re = Red/D\n",
    "f = haaland(Re,e/D)\n",
    "D = df(f)\n",
    "D*12"
   ]
  },
  {
   "cell_type": "code",
   "execution_count": 144,
   "metadata": {},
   "outputs": [
    {
     "data": {
      "text/plain": [
       "0.5106070810742623"
      ]
     },
     "execution_count": 144,
     "metadata": {},
     "output_type": "execute_result"
    }
   ],
   "source": [
    "Re = Red/D\n",
    "f = haaland(Re,e/D)\n",
    "D = df(f)\n",
    "D*12"
   ]
  },
  {
   "cell_type": "markdown",
   "metadata": {},
   "source": [
    "Changes in the 3rd decimal place which means that the diameter actually can't change that much, pick nominal diameter of $\\frac{1}{2}$ which has actual diameter of 0.622 in"
   ]
  },
  {
   "cell_type": "code",
   "execution_count": 148,
   "metadata": {},
   "outputs": [
    {
     "data": {
      "text/plain": [
       "11.738735148690274"
      ]
     },
     "execution_count": 148,
     "metadata": {},
     "output_type": "execute_result"
    }
   ],
   "source": [
    "D = 0.622/12\n",
    "Re = Red/D\n",
    "f = haaland(Re,e/D)\n",
    "hl = f*L/D*vDot**2*8/np.pi**2/g/D**4\n",
    "hl*ga/144"
   ]
  },
  {
   "cell_type": "code",
   "execution_count": 150,
   "metadata": {},
   "outputs": [],
   "source": [
    "K = 10+7*0.9"
   ]
  },
  {
   "cell_type": "markdown",
   "metadata": {},
   "source": [
    "Now we have a different energy equation: <br>\n",
    "$\\frac{P}{\\gamma} = h_L = \\left(\\frac{fL}{D}+\\Sigma K\\right)\\frac{8 {\\dot V}^2}{\\pi^2 g D^4}$ <br>\n",
    "$D = \\left[\\left(\\frac{fL}{D}+\\Sigma K\\right)\\frac{8 {\\dot V}^2 \\gamma}{P\\pi^2 g}\\right]^{1/4}$ <br>\n",
    "Reyolds number stuff and roughness is still the same we just have a new equation to use to solve for D"
   ]
  },
  {
   "cell_type": "code",
   "execution_count": 156,
   "metadata": {},
   "outputs": [
    {
     "data": {
      "text/plain": [
       "0.45166597108459583"
      ]
     },
     "execution_count": 156,
     "metadata": {},
     "output_type": "execute_result"
    }
   ],
   "source": [
    "def df2(f,D):\n",
    "    return ((f*L/D + K)*8*vDot**2*ga/P/np.pi**2/g)**(1/4)\n",
    "#Make first guess of 0.015 and old d 0.622\n",
    "D = df2(0.015,0.622/12)\n",
    "D*12"
   ]
  },
  {
   "cell_type": "code",
   "execution_count": 157,
   "metadata": {},
   "outputs": [
    {
     "data": {
      "text/plain": [
       "0.5512066770293462"
      ]
     },
     "execution_count": 157,
     "metadata": {},
     "output_type": "execute_result"
    }
   ],
   "source": [
    "Re = Red/D\n",
    "f = haaland(Re,e/D)\n",
    "D = df2(f,D)\n",
    "D*12"
   ]
  },
  {
   "cell_type": "code",
   "execution_count": 158,
   "metadata": {},
   "outputs": [
    {
     "data": {
      "text/plain": [
       "0.5263545871210452"
      ]
     },
     "execution_count": 158,
     "metadata": {},
     "output_type": "execute_result"
    }
   ],
   "source": [
    "Re = Red/D\n",
    "f = haaland(Re,e/D)\n",
    "D = df2(f,D)\n",
    "D*12"
   ]
  },
  {
   "cell_type": "code",
   "execution_count": 159,
   "metadata": {},
   "outputs": [
    {
     "data": {
      "text/plain": [
       "0.5318195752592697"
      ]
     },
     "execution_count": 159,
     "metadata": {},
     "output_type": "execute_result"
    }
   ],
   "source": [
    "Re = Red/D\n",
    "f = haaland(Re,e/D)\n",
    "D = df2(f,D)\n",
    "D*12"
   ]
  },
  {
   "cell_type": "markdown",
   "metadata": {},
   "source": [
    "Not changing much, picking nominal diameter of 0.622 again"
   ]
  },
  {
   "cell_type": "code",
   "execution_count": 163,
   "metadata": {},
   "outputs": [
    {
     "data": {
      "text/plain": [
       "14.788443443405116"
      ]
     },
     "execution_count": 163,
     "metadata": {},
     "output_type": "execute_result"
    }
   ],
   "source": [
    "D = 0.622/12\n",
    "Re = Red/D\n",
    "f = haaland(Re,e/D)\n",
    "hl = (f*L/D + K)*8*vDot**2/np.pi**2/g/D**4\n",
    "hl*ga/144"
   ]
  },
  {
   "cell_type": "markdown",
   "metadata": {},
   "source": [
    "# Part 2"
   ]
  },
  {
   "cell_type": "markdown",
   "metadata": {},
   "source": [
    "#### Question 1"
   ]
  },
  {
   "cell_type": "markdown",
   "metadata": {},
   "source": [
    "A water pump is tested and the flow rate, pressure rise, and pump power are measured at\n",
    "7 operating conditions. The pump has a D-in-diameter impeller and operates at $\\dot N$\n",
    "rpm.\n",
    "(Numbers will be provided on Maple TA.) <br>\n",
    "(a) For the given test data, find the flow coefficient at $\\dot V_1$, the head coefficient at $\\dot V_2$, the\n",
    "power coefficient at $\\dot V_3$, and the efficiency at the best efficiency point (BEP). <br>\n",
    "(b) A similar pump will be produced with a diameter $D_m$ and a speed $\\dot N_m$. What is the flow\n",
    "rate and pressure rise at the best efficiency point?"
   ]
  },
  {
   "cell_type": "markdown",
   "metadata": {},
   "source": [
    "I guess use $C_Q = \\frac{dot V}{\\omega D^3}$ $C_H = \\frac{g h_p}{\\omega^2 D^2}$ and $C_P = \\frac{\\dot W}{\\rho \\omega^3 D^5}$"
   ]
  },
  {
   "cell_type": "markdown",
   "metadata": {},
   "source": [
    "Then efficiency can be calculated by $\\eta = \\frac{C_Q C_H}{C_P}$"
   ]
  },
  {
   "cell_type": "code",
   "execution_count": 39,
   "metadata": {},
   "outputs": [
    {
     "data": {
      "text/plain": [
       "0.004032928539329622"
      ]
     },
     "execution_count": 39,
     "metadata": {},
     "output_type": "execute_result"
    }
   ],
   "source": [
    "# vDot,dP,Wdot = np.loadtxt('HW621.csv',unpack=True,skiprows=1,delimiter=',')\n",
    "\n",
    "# vDot\n",
    "D = 7.75/12 #ft\n",
    "w = 1425 *2*np.pi/60\n",
    "vDot /= 449 #convert to ft^3/s\n",
    "dP *= 144 #convert to lb/ft^2\n",
    "Wdot *= 550 #convert to lb*ft/s\n",
    "Cq = vDot/w/D**3\n",
    "ga = 62.3\n",
    "g = 32.2\n",
    "Cq[-1]"
   ]
  },
  {
   "cell_type": "code",
   "execution_count": 40,
   "metadata": {},
   "outputs": [
    {
     "data": {
      "text/plain": [
       "0.1426209944042616"
      ]
     },
     "execution_count": 40,
     "metadata": {},
     "output_type": "execute_result"
    }
   ],
   "source": [
    "vDot,dP,Wdot = np.loadtxt('HW622.csv',unpack=True,skiprows=1,delimiter=',')\n",
    "vDot /= 449 #convert to ft^3/s\n",
    "dP *= 144 #convert to lb/ft^2\n",
    "Wdot *= 550 #convert to lb*ft/s\n",
    "D = 9.75/12\n",
    "w = 1425*2*np.pi/60\n",
    "hp = dP/ga\n",
    "Ch = hp*g/w**2/D**2\n",
    "Ch[3]"
   ]
  },
  {
   "cell_type": "code",
   "execution_count": 41,
   "metadata": {},
   "outputs": [
    {
     "data": {
      "text/plain": [
       "0.0006793564053361862"
      ]
     },
     "execution_count": 41,
     "metadata": {},
     "output_type": "execute_result"
    }
   ],
   "source": [
    "vDot,dP,Wdot = np.loadtxt('HW623.csv',unpack=True,skiprows=1,delimiter=',')\n",
    "vDot /= 449 #convert to ft^3/s\n",
    "dP *= 144 #convert to lb/ft^2\n",
    "Wdot *= 550 #convert to lb*ft/s\n",
    "D = 11.75/12\n",
    "w = 2150*2*np.pi/60\n",
    "Cp = Wdot*g/ga/w**3/D**5\n",
    "Cp[-2]"
   ]
  },
  {
   "cell_type": "code",
   "execution_count": 46,
   "metadata": {},
   "outputs": [
    {
     "data": {
      "text/plain": [
       "0.6123868505968039"
      ]
     },
     "execution_count": 46,
     "metadata": {},
     "output_type": "execute_result"
    }
   ],
   "source": [
    "vDot,dP,Wdot = np.loadtxt('HW624.csv',unpack=True,skiprows=1,delimiter=',')\n",
    "vDot /= 449 #convert to ft^3/s\n",
    "dP *= 144 #convert to lb/ft^2\n",
    "Wdot *= 550 #convert to lb*ft/s\n",
    "D = 8.75/12\n",
    "w = 1925*2*np.pi/60\n",
    "Cq = vDot/w/D**3\n",
    "hp = dP/ga\n",
    "Ch = hp*g/w**2/D**2\n",
    "Cp = Wdot*g/ga/w**3/D**5\n",
    "eta = Cq*Ch/Cp\n",
    "plt.plot(vDot,eta)\n",
    "plt.show()\n",
    "np.max(eta)"
   ]
  },
  {
   "cell_type": "markdown",
   "metadata": {},
   "source": [
    "$C_p = \\frac{\\dot W g}{\\gamma \\omega^3 D^5}$"
   ]
  },
  {
   "cell_type": "markdown",
   "metadata": {},
   "source": [
    "#### Question 2"
   ]
  },
  {
   "cell_type": "markdown",
   "metadata": {},
   "source": [
    "A pump is used to transfer water between two open tanks. The downstream tank is z meters\n",
    "above the other tank. L meters of D-diameter schedule 40 steel pipe connects the two tanks.\n",
    "The pump characteristics (but __not__ the system characteristics) are shown in the figure. What\n",
    "is the flow rate and pump efficiency?"
   ]
  },
  {
   "cell_type": "markdown",
   "metadata": {},
   "source": [
    "Remember it's schedule 40 pipe. \n",
    "\n",
    "Solve energy equation for pump head and then iterate to get closer to the pump curve. <br>\n",
    "$h_p = z_2 + h_L = z + f\\frac{L}{D}\\frac{8 {\\dot V}^2}{\\pi^2 g D^4}$ <br>\n",
    "And find new reynolds number $Re = \\frac{4 \\dot V}{\\pi \\nu D}$ <br>\n",
    "Use $Re$ and $\\varepsilon/D$ to get new $f$"
   ]
  }
 ],
 "metadata": {
  "kernelspec": {
   "display_name": "Python 3 (Spyder)",
   "language": "python3",
   "name": "python3"
  },
  "language_info": {
   "codemirror_mode": {
    "name": "ipython",
    "version": 3
   },
   "file_extension": ".py",
   "mimetype": "text/x-python",
   "name": "python",
   "nbconvert_exporter": "python",
   "pygments_lexer": "ipython3",
   "version": "3.7.4"
  }
 },
 "nbformat": 4,
 "nbformat_minor": 2
}