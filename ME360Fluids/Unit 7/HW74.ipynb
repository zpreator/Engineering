{
 "nbformat": 4,
 "nbformat_minor": 2,
 "metadata": {
  "language_info": {
   "name": "python",
   "codemirror_mode": {
    "name": "ipython",
    "version": 3
   },
   "version": "3.7.4-final"
  },
  "orig_nbformat": 2,
  "file_extension": ".py",
  "mimetype": "text/x-python",
  "name": "python",
  "npconvert_exporter": "python",
  "pygments_lexer": "ipython3",
  "version": 3,
  "kernelspec": {
   "name": "python3",
   "display_name": "Python 3"
  }
 },
 "cells": [
  {
   "cell_type": "code",
   "execution_count": 16,
   "metadata": {},
   "outputs": [],
   "source": [
    "import numpy as np"
   ]
  },
  {
   "cell_type": "markdown",
   "metadata": {},
   "source": [
    "The point at which lift decreases on the wing with an increasing angle of attack is called "
   ]
  },
  {
   "cell_type": "markdown",
   "metadata": {},
   "source": [
    "4. Stall"
   ]
  },
  {
   "cell_type": "markdown",
   "metadata": {},
   "source": [
    "Part of a processing system consists of a flat paddle 18 in. long and 17.5 in. wide that that skims along the surface of a tank containing a liquid mixture for food processing. The liquid is at 40°F and has a kinematic viscosity of 5.4E-6 ft²/s, and the paddle moves at 1.6 ft/s. The leading edge of the paddle has a wire mesh on it, tripping the boundary layer. What is the average skin friction coefficient acting on the paddle? "
   ]
  },
  {
   "cell_type": "code",
   "execution_count": 17,
   "metadata": {},
   "outputs": [
    {
     "output_type": "execute_result",
     "data": {
      "text/plain": "0.005491212157437616"
     },
     "metadata": {},
     "execution_count": 17
    }
   ],
   "source": [
    "L = 18/12 #ft\n",
    "V = 1.6 #ft/s\n",
    "nu = 5.4e-6\n",
    "Rel = L*V/nu\n",
    "Cf = 0.074/Rel**(1/5)\n",
    "Cf"
   ]
  },
  {
   "cell_type": "markdown",
   "metadata": {},
   "source": [
    "A Boeing 737 with a planform area of 124 m² and a mass at takeoff of 65,500 kg uses a wing shown with a slotted flap fully extended during takeoff. For standard atmospheric conditions, what is the minimum angle of attack required for a takeoff speed of 76.1 m/s?"
   ]
  },
  {
   "cell_type": "code",
   "execution_count": 18,
   "metadata": {},
   "outputs": [
    {
     "output_type": "execute_result",
     "data": {
      "text/plain": "1.4863559206532633"
     },
     "metadata": {},
     "execution_count": 18
    }
   ],
   "source": [
    "A = 124 #m^2\n",
    "m = 65500 #kg\n",
    "rho = 1.204 #kg/m^3\n",
    "v = 76.1 #m/s\n",
    "Cl = 2*m*9.81/(rho*v**2*A)\n",
    "Cl"
   ]
  },
  {
   "cell_type": "markdown",
   "metadata": {},
   "source": [
    "A 20 cm diameter smooth sphere is propelled through the air with a Reynolds number of 200,000. The drag force acting on the sphere is 1.74 N. If the speed of the sphere were doubled, what drag force would act on the sphere? "
   ]
  },
  {
   "cell_type": "code",
   "execution_count": 19,
   "metadata": {},
   "outputs": [
    {
     "output_type": "execute_result",
     "data": {
      "text/plain": "1.3919999999999997"
     },
     "metadata": {},
     "execution_count": 19
    }
   ],
   "source": [
    "d = 0.2 #m\n",
    "Re = 200000\n",
    "F = 1.74 #N\n",
    "rhoa = 1.204 #kg/m^3\n",
    "nu = 1.516E-5 #m^2/s\n",
    "Cd1 = 0.4\n",
    "A = np.pi/4*d**2\n",
    "v1 = np.sqrt(2*F/(rhoa*Cd1*A))\n",
    "v2 = 2*v1\n",
    "Re2 = v2*d/nu\n",
    "Cd2 = 0.08\n",
    ".5*rhoa*v2**2*Cd2*A"
   ]
  },
  {
   "cell_type": "markdown",
   "metadata": {},
   "source": [
    "Two smooth 10 cm spheres are traveling through air at 3.5 m/s. If one is spinning at 315 rad/s, what is the ratio of the drag force acting on the spinning sphere to the drag force on the non-spinning sphere?"
   ]
  },
  {
   "cell_type": "code",
   "execution_count": 20,
   "metadata": {},
   "outputs": [
    {
     "output_type": "execute_result",
     "data": {
      "text/plain": "4.5"
     },
     "metadata": {},
     "execution_count": 20
    }
   ],
   "source": [
    "d = 0.1 #m\n",
    "v = 3.5 #m/s\n",
    "omega = 315 #rad/s\n",
    ".5*omega*d/v"
   ]
  },
  {
   "cell_type": "code",
   "execution_count": 21,
   "metadata": {},
   "outputs": [
    {
     "output_type": "execute_result",
     "data": {
      "text/plain": "348605.5776892431"
     },
     "metadata": {},
     "execution_count": 21
    }
   ],
   "source": [
    "SpinningCd = 0.64\n",
    "nu = 1.004e-6\n",
    "Re = d*v/nu\n",
    "Re"
   ]
  },
  {
   "cell_type": "code",
   "execution_count": 22,
   "metadata": {},
   "outputs": [
    {
     "output_type": "execute_result",
     "data": {
      "text/plain": "1.28"
     },
     "metadata": {},
     "execution_count": 22
    }
   ],
   "source": [
    "Cd = 0.5\n",
    "SpinningCd/Cd"
   ]
  },
  {
   "cell_type": "markdown",
   "metadata": {},
   "source": [
    "If a bicyclist exerting power of 240 watts on level ground has a cross-sectional area of 0.36 m² a drag coefficient of 0.88, what is the terminal velocity of the bicyclist?"
   ]
  },
  {
   "cell_type": "code",
   "execution_count": 23,
   "metadata": {},
   "outputs": [
    {
     "output_type": "execute_result",
     "data": {
      "text/plain": "10.796339325735358"
     },
     "metadata": {},
     "execution_count": 23
    }
   ],
   "source": [
    "P = 240 #w\n",
    "A = 0.36 #m^2\n",
    "Cd = 0.88\n",
    "rho = 1.204\n",
    "v = (2*P/(rho*Cd*A))**(1/3)\n",
    "v"
   ]
  },
  {
   "cell_type": "markdown",
   "metadata": {},
   "source": [
    "Air is flowing along a 47 cm-long paper-covered surface at a velocity of 9.4 m/s. If the Reynolds number, ReL, is 250,000 and the air density is 1.2 kg/m³, what is the friction drag per unit width acting on the paper-covered surface? "
   ]
  },
  {
   "cell_type": "markdown",
   "metadata": {},
   "source": [
    "Air is flowing along a 47 cm-long paper-covered surface at a velocity of 9.4 m/s."
   ]
  },
  {
   "cell_type": "code",
   "execution_count": 27,
   "metadata": {},
   "outputs": [
    {
     "output_type": "execute_result",
     "data": {
      "text/plain": "0.06628060320000001"
     },
     "metadata": {},
     "execution_count": 27
    }
   ],
   "source": [
    "L = 47 #cm\n",
    "v = 9.4 #m/s\n",
    "Re_L = 250000\n",
    "rhoa = 1.2 #kg/m^3\n",
    "\n",
    "\n",
    "A = L/100 #Per unit width means w = 1 or L*w = A\n",
    "Cf = 1.33/Re_L**(1/2)\n",
    "# Cf = (1.89 - 1.62*np.log10())\n",
    "Fd = 1/2*rhoa*v**2*Cf*A\n",
    "Fd"
   ]
  },
  {
   "cell_type": "markdown",
   "metadata": {},
   "source": [
    "Part of a processing system consists of a flat paddle 16 in. long and 13.5 in. wide that that skims along the surface of a tank containing a liquid mixture for food processing. The liquid is at 40°F and has a viscosity of 3.7E-6 ft²/s, and the paddle moves at 1.6 ft/s. The leading edge of the paddle has a wire mesh on it, tripping the boundary layer. What is the boundary layer thickness at the trailing edge of the paddle? "
   ]
  },
  {
   "cell_type": "code",
   "execution_count": 25,
   "metadata": {},
   "outputs": [
    {
     "output_type": "execute_result",
     "data": {
      "text/plain": "0.42828432550757733"
     },
     "metadata": {},
     "execution_count": 25
    }
   ],
   "source": [
    "L = 16/12 #ft\n",
    "V = 1.6 #ft/s\n",
    "nu = 3.7e-6\n",
    "Rel = L*V/nu\n",
    "0.38*L/(Rel**(1/5))*12 #ft to in"
   ]
  },
  {
   "cell_type": "markdown",
   "metadata": {},
   "source": [
    "A truck requires 280 kW of power to travel at 40 m/s. If the cross-sectional area of the truck is 11.2 m2 and the predominant force is aerodynamic drag, what is the drag coefficient of the truck?"
   ]
  },
  {
   "cell_type": "code",
   "execution_count": 26,
   "metadata": {},
   "outputs": [
    {
     "output_type": "execute_result",
     "data": {
      "text/plain": "0.6488787375415282"
     },
     "metadata": {},
     "execution_count": 26
    }
   ],
   "source": [
    "A = 11.2 #m^2\n",
    "V = 40 #m/s\n",
    "P = 280000 #w\n",
    "2*P/(V**3*1.204*A)"
   ]
  },
  {
   "cell_type": "code",
   "execution_count": null,
   "metadata": {},
   "outputs": [],
   "source": []
  }
 ]
}