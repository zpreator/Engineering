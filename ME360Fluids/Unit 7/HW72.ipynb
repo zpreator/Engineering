{
 "nbformat": 4,
 "nbformat_minor": 2,
 "metadata": {
  "language_info": {
   "name": "python",
   "codemirror_mode": {
    "name": "ipython",
    "version": 3
   },
   "version": "3.7.4-final"
  },
  "orig_nbformat": 2,
  "file_extension": ".py",
  "mimetype": "text/x-python",
  "name": "python",
  "npconvert_exporter": "python",
  "pygments_lexer": "ipython3",
  "version": 3,
  "kernelspec": {
   "name": "python3",
   "display_name": "Python 3"
  }
 },
 "cells": [
  {
   "cell_type": "markdown",
   "metadata": {},
   "source": [
    "PM 2.5 pollution is a form of pollution that can cause lung disease. The name refers to the size–approximately spherical particles which are about 2.5 µm in diameter. If the Reynolds number is 3.26E-4, what is the drag force (in picoNewtons) acting on one of these particles if the settling rate is 712 cm/h? "
   ]
  },
  {
   "cell_type": "code",
   "execution_count": 180,
   "metadata": {},
   "outputs": [],
   "source": [
    "import numpy as np\n",
    "d = 2.5*10E-6\n",
    "Re = 3.26E-4\n",
    "v = 712 #cm/h\n",
    "v /= 360000 #m/s\n",
    "A = np.pi*d**2/4\n",
    "rho = 1.204 #kg/m^3"
   ]
  },
  {
   "cell_type": "code",
   "execution_count": 181,
   "metadata": {},
   "outputs": [
    {
     "output_type": "execute_result",
     "data": {
      "text/plain": "8.509715039916508e-11"
     },
     "metadata": {},
     "execution_count": 181
    }
   ],
   "source": [
    "Cd = 24/Re\n",
    "Fd = 0.5*rho*v**2*Cd*A\n",
    "Fd"
   ]
  },
  {
   "cell_type": "markdown",
   "metadata": {},
   "source": [
    "A 30 cm long, 15 cm wide smooth metal plate is being towed in water at a velocity of 32.3 m/s, with the flow parallel to the long dimension of the surface. What is the boundary layer thickness at the trailing edge of the plate?"
   ]
  },
  {
   "cell_type": "code",
   "execution_count": 182,
   "metadata": {},
   "outputs": [],
   "source": [
    "L = 0.3 #m\n",
    "x = 0.15 #m\n",
    "v = 32.2 #m/s\n",
    "nu = 1.004E-6"
   ]
  },
  {
   "cell_type": "code",
   "execution_count": 183,
   "metadata": {},
   "outputs": [
    {
     "output_type": "execute_result",
     "data": {
      "text/plain": "9621513.944223108"
     },
     "metadata": {},
     "execution_count": 183
    }
   ],
   "source": [
    "Re = v*L/nu\n",
    "Re"
   ]
  },
  {
   "cell_type": "code",
   "execution_count": 184,
   "metadata": {},
   "outputs": [
    {
     "output_type": "execute_result",
     "data": {
      "text/plain": "0.004573578826307292"
     },
     "metadata": {},
     "execution_count": 184
    }
   ],
   "source": [
    "# Turbulant\n",
    "delta = 0.38*L/Re**(1/5)\n",
    "delta"
   ]
  },
  {
   "cell_type": "markdown",
   "metadata": {},
   "source": [
    "WRONG\n",
    "It has been rumored that a coin dropped from the top of the Empire State building will achieve speeds high enough to be embedded in the concrete sidewalk below. If we could keep it falling edge-down (no flipping or fluttering), it could have a drag coefficient based on surface area as low as 0.003. How fast would a coin having a mass of 4.21 grams and a diameter of 2.1 centimeters. it be traveling when it hits the sidewalk assuming it has achieved terminal velocity?"
   ]
  },
  {
   "cell_type": "code",
   "execution_count": 185,
   "metadata": {},
   "outputs": [],
   "source": [
    "Cd = 0.003\n",
    "m = 4.21 #g\n",
    "d = 2.1 #cm\n",
    "rhoa = 1.204 #kg/m^3"
   ]
  },
  {
   "cell_type": "code",
   "execution_count": 186,
   "metadata": {},
   "outputs": [],
   "source": [
    "m /= 1000\n",
    "d /= 100\n",
    "F = m*9.81\n",
    "A = np.pi/4*d**2\n",
    "A *= 2 #Because there are two sides to the coin I guess"
   ]
  },
  {
   "cell_type": "code",
   "execution_count": 187,
   "metadata": {},
   "outputs": [
    {
     "output_type": "execute_result",
     "data": {
      "text/plain": "256.95226080870117"
     },
     "metadata": {},
     "execution_count": 187
    }
   ],
   "source": [
    "V = np.sqrt(2*F/(rhoa*Cd*A))\n",
    "V"
   ]
  },
  {
   "cell_type": "markdown",
   "metadata": {},
   "source": [
    "Streamlining tends to"
   ]
  },
  {
   "cell_type": "markdown",
   "metadata": {},
   "source": [
    "C. Decrease Pressure drag but increase skin friction"
   ]
  },
  {
   "cell_type": "markdown",
   "metadata": {},
   "source": [
    "WRONG\n",
    "A person's arm is approximately a cylinder with a length of 0.73 m and a diameter of 12.2 centimeters. When bicycling at 9.2 m/s, what is the drag force due to the persons arm sticking out in the air flow? Assume the arm can be approximated as an infinite cylinder."
   ]
  },
  {
   "cell_type": "markdown",
   "metadata": {},
   "source": [
    "*Needed to calculate Re and not just use the one from the table*"
   ]
  },
  {
   "cell_type": "code",
   "execution_count": 188,
   "metadata": {},
   "outputs": [],
   "source": [
    "L = 0.73 #m\n",
    "d = 0.122 #m\n",
    "v = 9.2 #m/s\n",
    "rhoa = 1.204 #kg/m^3\n",
    "Cd = 1.2"
   ]
  },
  {
   "cell_type": "code",
   "execution_count": 189,
   "metadata": {},
   "outputs": [],
   "source": [
    "A = L*d"
   ]
  },
  {
   "cell_type": "code",
   "execution_count": 190,
   "metadata": {},
   "outputs": [
    {
     "output_type": "execute_result",
     "data": {
      "text/plain": "5.445478940159999"
     },
     "metadata": {},
     "execution_count": 190
    }
   ],
   "source": [
    "Fd = .5*rhoa*v**2*Cd*A\n",
    "Fd"
   ]
  },
  {
   "cell_type": "markdown",
   "metadata": {},
   "source": [
    "At the design point for a certain airfoil, the lift coefficient is 0.4. If an airplane is to be designed to fly at an altitude where the density is 0.043 lbm/ft³ with a maximum gross weight of 33,000 lbf at a cruise speed of 400 mph, be what should the planform area of the wings be? "
   ]
  },
  {
   "cell_type": "code",
   "execution_count": 191,
   "metadata": {},
   "outputs": [],
   "source": [
    "Cl = 0.4\n",
    "rho = 0.043 #lbm/ft^3\n",
    "W = 33000 #lbf\n",
    "V = 586.667 #ft/s"
   ]
  },
  {
   "cell_type": "code",
   "execution_count": 192,
   "metadata": {},
   "outputs": [],
   "source": [
    "rho /= 32.174 # lbf s^2/ft^4"
   ]
  },
  {
   "cell_type": "code",
   "execution_count": 193,
   "metadata": {},
   "outputs": [
    {
     "output_type": "execute_result",
     "data": {
      "text/plain": "358.7048315456623"
     },
     "metadata": {},
     "execution_count": 193
    }
   ],
   "source": [
    "A = 2*W/(rho*V**2*Cl)\n",
    "A"
   ]
  },
  {
   "cell_type": "markdown",
   "metadata": {},
   "source": [
    "A 16 cm long, 17 cm wide smooth metal plate is being towed in water at a velocity of 26.9 m/s, with the flow parallel to the long dimension of the surface. If the Reynolds number at the trailing edge of the plate is 550,000, what is the friction drag acting on one surface of the plate? "
   ]
  },
  {
   "cell_type": "code",
   "execution_count": 194,
   "metadata": {},
   "outputs": [],
   "source": [
    "L = 0.16 #m\n",
    "x = 0.17 #m\n",
    "v = 26.9 #m/s\n",
    "Re = 550000\n",
    "rhow = 998 #kg/m^3"
   ]
  },
  {
   "cell_type": "code",
   "execution_count": 195,
   "metadata": {},
   "outputs": [],
   "source": [
    "Cf = 0.074/Re**(1/5)-1742/Re"
   ]
  },
  {
   "cell_type": "code",
   "execution_count": 196,
   "metadata": {},
   "outputs": [
    {
     "output_type": "execute_result",
     "data": {
      "text/plain": "20.57417558702747"
     },
     "metadata": {},
     "execution_count": 196
    }
   ],
   "source": [
    "Fd = .5*rhow*v**2*Cf*L*x\n",
    "Fd"
   ]
  },
  {
   "cell_type": "markdown",
   "metadata": {},
   "source": [
    "An airplane with a NACA 66_2-215 airfoil with a wingspan of 2 m² is flying at 180 kilometers per hour at an altitude where the density is 1.03 kg/m³. If is it at an angle of attack of 12°, what is the lift force acting on the airplane in kN? "
   ]
  },
  {
   "cell_type": "code",
   "execution_count": 197,
   "metadata": {},
   "outputs": [],
   "source": [
    "A = 2 #m^2\n",
    "V = 180 #k/h\n",
    "rhoa = 1.03 #kg/m^3\n",
    "Cl = 1.29"
   ]
  },
  {
   "cell_type": "code",
   "execution_count": 198,
   "metadata": {},
   "outputs": [],
   "source": [
    "V /= 3.6"
   ]
  },
  {
   "cell_type": "code",
   "execution_count": 199,
   "metadata": {},
   "outputs": [
    {
     "output_type": "execute_result",
     "data": {
      "text/plain": "3321.75"
     },
     "metadata": {},
     "execution_count": 199
    }
   ],
   "source": [
    "F = .5*rhoa*V**2*A*Cl\n",
    "F"
   ]
  },
  {
   "cell_type": "markdown",
   "metadata": {},
   "source": [
    "An oak tree with a height of 15 feet and an average width of 9.45 feet is in a windstorm with gusts of 50 mph. If the drag coefficient at these speeds is 0.5, what is the force on the oak tree?"
   ]
  },
  {
   "cell_type": "code",
   "execution_count": 200,
   "metadata": {},
   "outputs": [],
   "source": [
    "h = 15 #ft\n",
    "w = 9.45 #ft\n",
    "v = 50 #mph\n",
    "Cd = 0.5\n",
    "rhoa = 0.07518 #lbm/ft^3"
   ]
  },
  {
   "cell_type": "code",
   "execution_count": 201,
   "metadata": {},
   "outputs": [],
   "source": [
    "v *= 1.467 #ft/s\n",
    "A = h*w #ft^2\n",
    "rhoa /= 32.174 #lbf s^2/ft^4"
   ]
  },
  {
   "cell_type": "code",
   "execution_count": 202,
   "metadata": {},
   "outputs": [
    {
     "output_type": "execute_result",
     "data": {
      "text/plain": "445.513200334218"
     },
     "metadata": {},
     "execution_count": 202
    }
   ],
   "source": [
    "F = 1/2*rhoa*v**2*Cd*A\n",
    "F"
   ]
  },
  {
   "cell_type": "markdown",
   "metadata": {},
   "source": [
    "WRONG\n",
    "Part of a processing system consists of a flat paddle 12 in. long and 15.5 in. wide that that skims along the surface of a tank containing a liquid mixture for food processing. The liquid is at 40°F and has a kinematic viscosity of 5.6E-6 ft²/s, and the paddle moves at 0.6 ft/s. The leading edge of the paddle has a wire mesh on it, tripping the boundary layer. What is the average skin friction coefficient acting on the paddle? "
   ]
  },
  {
   "cell_type": "markdown",
   "metadata": {},
   "source": [
    "*Missed a conversion factor*\n",
    "\n",
    "Everything is corrected"
   ]
  },
  {
   "cell_type": "code",
   "execution_count": 222,
   "metadata": {},
   "outputs": [
    {
     "output_type": "execute_result",
     "data": {
      "text/plain": "0.007298591803476816"
     },
     "metadata": {},
     "execution_count": 222
    }
   ],
   "source": [
    "L = 12/12 #ft\n",
    "V = 0.6 #ft/s\n",
    "nu = 5.6e-6\n",
    "Rel = L*V/nu\n",
    "Cf = 0.074/Rel**(1/5)\n",
    "Cf"
   ]
  },
  {
   "cell_type": "code",
   "execution_count": null,
   "metadata": {},
   "outputs": [],
   "source": []
  }
 ]
}