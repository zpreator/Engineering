{
 "nbformat": 4,
 "nbformat_minor": 2,
 "metadata": {
  "language_info": {
   "name": "python",
   "codemirror_mode": {
    "name": "ipython",
    "version": 3
   },
   "version": "3.7.4-final"
  },
  "orig_nbformat": 2,
  "file_extension": ".py",
  "mimetype": "text/x-python",
  "name": "python",
  "npconvert_exporter": "python",
  "pygments_lexer": "ipython3",
  "version": 3,
  "kernelspec": {
   "name": "python3",
   "display_name": "Python 3"
  }
 },
 "cells": [
  {
   "cell_type": "code",
   "execution_count": 1,
   "metadata": {},
   "outputs": [],
   "source": [
    "import numpy as np"
   ]
  },
  {
   "cell_type": "markdown",
   "metadata": {},
   "source": [
    "A dolphin has a surface area of approximately 30 ft^{2}. The specific gravity of sea water is 1.03. If the drag coefficient on the dolphin is 0.0036, the power the dolphin must exert to swim 25 ft/s is approximately"
   ]
  },
  {
   "cell_type": "code",
   "execution_count": 2,
   "metadata": {},
   "outputs": [],
   "source": [
    "A = 30 #ft^2\n",
    "SG = 1.03\n",
    "Cd = 0.0036\n",
    "v = 25 #ft/s"
   ]
  },
  {
   "cell_type": "code",
   "execution_count": 5,
   "metadata": {},
   "outputs": [
    {
     "output_type": "execute_result",
     "data": {
      "text/plain": "3.0571763833992094"
     },
     "metadata": {},
     "execution_count": 5
    }
   ],
   "source": [
    "F = .5*SG*62.3*v**2*A*Cd/32.2\n",
    "P = F*v/550\n",
    "P"
   ]
  },
  {
   "cell_type": "markdown",
   "metadata": {},
   "source": [
    "A cube falls in air at a constant velocity of 62 m/s. The length of a side is 3 cm and the drag coefficient for the cube is 1.05. The weight of the cube is most nearly"
   ]
  },
  {
   "cell_type": "code",
   "execution_count": 8,
   "metadata": {},
   "outputs": [],
   "source": [
    "v = 62 #m/s\n",
    "a = 0.03 #m\n",
    "Cd = 1.05\n",
    "rhoa = 1.204 #kg/m^3"
   ]
  },
  {
   "cell_type": "code",
   "execution_count": 9,
   "metadata": {},
   "outputs": [
    {
     "output_type": "execute_result",
     "data": {
      "text/plain": "2.18681316"
     },
     "metadata": {},
     "execution_count": 9
    }
   ],
   "source": [
    "A = a**2\n",
    "F = .5*rhoa*v**2*A*Cd\n",
    "F"
   ]
  },
  {
   "cell_type": "markdown",
   "metadata": {},
   "source": [
    "A plastic BB is falling through water at a rate of 1 cm/s. The diameter of the BB is 4 mm. The drag coefficient of this BB is approximately"
   ]
  },
  {
   "cell_type": "code",
   "execution_count": 10,
   "metadata": {},
   "outputs": [],
   "source": [
    "v = 0.01 #m/s\n",
    "d = 0.004 #m\n",
    "nu = 1.004E-6"
   ]
  },
  {
   "cell_type": "code",
   "execution_count": 11,
   "metadata": {},
   "outputs": [
    {
     "output_type": "execute_result",
     "data": {
      "text/plain": "39.8406374501992"
     },
     "metadata": {},
     "execution_count": 11
    }
   ],
   "source": [
    "Re = v*d/nu\n",
    "Re"
   ]
  },
  {
   "cell_type": "markdown",
   "metadata": {},
   "source": [
    "A smooth metal plate with a length of 16.0 cm and a width of 19.0 cm is being towed in water at a velocity of 7.5 m/s, with the flow parallel to the “length” dimension of the surface. If the Reynolds number at the trailing edge of the plate is 550,000, the drag coefficient is closest to"
   ]
  },
  {
   "cell_type": "code",
   "execution_count": 14,
   "metadata": {},
   "outputs": [],
   "source": [
    "L = 0.16 #m\n",
    "w = 0.19 #m\n",
    "v = 7.5 #m/s\n",
    "Re = 550000"
   ]
  },
  {
   "cell_type": "code",
   "execution_count": 15,
   "metadata": {},
   "outputs": [
    {
     "output_type": "execute_result",
     "data": {
      "text/plain": "0.00209482829959459"
     },
     "metadata": {},
     "execution_count": 15
    }
   ],
   "source": [
    "Cf = 0.074/Re**(1/5)-1742/Re\n",
    "Cf"
   ]
  },
  {
   "cell_type": "markdown",
   "metadata": {},
   "source": [
    "A small airplane with a planform area of 7.6 m^{2} using an airfoil with the lift coefficient curve shown is flying at standard atmospheric conditions. If the airplane’s velocity is 78.8 m/s and the lift force is 14,000 N, what is the angle of attack?"
   ]
  },
  {
   "cell_type": "code",
   "execution_count": 18,
   "metadata": {},
   "outputs": [],
   "source": [
    "A = 7.6 #m^2\n",
    "v = 78.8 #m/s\n",
    "Fl = 14000 #N\n",
    "rhoa = 1.204 #kg/m3"
   ]
  },
  {
   "cell_type": "code",
   "execution_count": 19,
   "metadata": {},
   "outputs": [
    {
     "output_type": "execute_result",
     "data": {
      "text/plain": "0.49279411995217587"
     },
     "metadata": {},
     "execution_count": 19
    }
   ],
   "source": [
    "Cl = 2*Fl/(v**2*rhoa*A)\n",
    "Cl"
   ]
  },
  {
   "cell_type": "code",
   "execution_count": null,
   "metadata": {},
   "outputs": [],
   "source": []
  }
 ]
}