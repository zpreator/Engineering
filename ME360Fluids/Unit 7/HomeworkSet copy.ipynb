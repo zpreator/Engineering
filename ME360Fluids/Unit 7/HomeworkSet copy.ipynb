{
 "nbformat": 4,
 "nbformat_minor": 2,
 "metadata": {
  "language_info": {
   "name": "python",
   "codemirror_mode": {
    "name": "ipython",
    "version": 3
   },
   "version": "3.7.4-final"
  },
  "orig_nbformat": 2,
  "file_extension": ".py",
  "mimetype": "text/x-python",
  "name": "python",
  "npconvert_exporter": "python",
  "pygments_lexer": "ipython3",
  "version": 3,
  "kernelspec": {
   "name": "python3",
   "display_name": "Python 3"
  }
 },
 "cells": [
  {
   "cell_type": "markdown",
   "metadata": {},
   "source": [
    "1.  A bicyclist has a combined mass (cycle and cyclist) of 60 kg and can produce 125 W of pedalingpower.  If her cross-sectional area is 0.32 m2, drag coefficient is 0.83, and rolling resistance is 0.004,how fast can she pedal into a 6 m/s (about 15 mph) headwind on level ground?  How about with a 6m/s tailwind? ( You should be around 5 m/s with a headwind and around 10 m/s with a tailwind)"
   ]
  },
  {
   "cell_type": "code",
   "execution_count": 326,
   "metadata": {},
   "outputs": [],
   "source": [
    "m = 60 #kg\n",
    "P = 125 #W\n",
    "A = 0.32 #m^2\n",
    "Cd = 0.83\n",
    "resistance = 0.004\n",
    "headWind = 6 #m/s\n",
    "tailWind = -6 #m/s\n",
    "rho = 1.204 #kg/m^3\n",
    "g = 9.81 #m/s^2"
   ]
  },
  {
   "cell_type": "code",
   "execution_count": 327,
   "metadata": {},
   "outputs": [
    {
     "output_type": "execute_result",
     "data": {
      "text/plain": "5.401801496233477"
     },
     "metadata": {},
     "execution_count": 327
    }
   ],
   "source": [
    "def DragForceH(V):\n",
    "    return .5*(V+headWind)**2*rho*Cd*A\n",
    "def DragForceT(V):\n",
    "    return .5*(V-tailWind)**2*rho*Cd*A\n",
    "Vf = 6\n",
    "for i in range(5000):\n",
    "    Vf = P/(DragForceH(Vf) + resistance*m*g)\n",
    "    # print(Vf)\n",
    "Vf"
   ]
  },
  {
   "cell_type": "code",
   "execution_count": 328,
   "metadata": {},
   "outputs": [
    {
     "output_type": "execute_result",
     "data": {
      "text/plain": "13.585782641147869"
     },
     "metadata": {},
     "execution_count": 328
    }
   ],
   "source": [
    "from scipy import optimize\n",
    "def f(v):\n",
    "    return 2*P/(rho*Cd*A) - v*(v+tailWind)**2\n",
    "root = optimize.newton(f, 9)\n",
    "root"
   ]
  },
  {
   "cell_type": "markdown",
   "metadata": {},
   "source": [
    "2.  You are staying on the 7th floor of a beachfront hotel. Your little brother just texted you. He just got outside and decided he wants his beachball (D = 12 in, m = 0.175 lbm). You estimate that the plastic ridges at the seams stick up about 1/16 in.  You realize the fastest way to get it to him is to drop itoff the balcony.  Fortunately, there is no wind right now.  Assuming each story is 12 feet high, how long will it take to get to him from the time you drop it, assuming you can throw it downward with aninitial velocity equal to its terminal velocity? (You should get around about 2 to 3 seconds)"
   ]
  },
  {
   "cell_type": "code",
   "execution_count": 329,
   "metadata": {},
   "outputs": [
    {
     "output_type": "execute_result",
     "data": {
      "text/plain": "0.039364155949480104"
     },
     "metadata": {},
     "execution_count": 329
    }
   ],
   "source": [
    "import numpy as np\n",
    "d = 1 #ft\n",
    "m = 0.175 #lbm\n",
    "h = 12*11 #ft\n",
    "vol = 4/3*np.pi*(d/2)**3\n",
    "g = 32.2\n",
    "Epsilon = 1/16/12 #ft\n",
    "nu = 1.632E-4 #ft^2/s\n",
    "rho = 0.07518 #lbm/ft^3\n",
    "rho /= 32.2 #lbf...\n",
    "A = np.pi*d**2/4\n",
    "Fb = rho*g*vol\n",
    "Fb"
   ]
  },
  {
   "cell_type": "code",
   "execution_count": 330,
   "metadata": {},
   "outputs": [
    {
     "output_type": "execute_result",
     "data": {
      "text/plain": "183823.5294117647"
     },
     "metadata": {},
     "execution_count": 330
    }
   ],
   "source": [
    "V = 30 #ft/s initial guess\n",
    "Re = V*d/nu\n",
    "Re"
   ]
  },
  {
   "cell_type": "code",
   "execution_count": 331,
   "metadata": {},
   "outputs": [
    {
     "output_type": "execute_result",
     "data": {
      "text/plain": "140842.8807440247"
     },
     "metadata": {},
     "execution_count": 331
    }
   ],
   "source": [
    "Cd = 0.28\n",
    "V = np.sqrt((2*(m-Fb))/(A*Cd*rho))\n",
    "Re = V*d/nu\n",
    "Re"
   ]
  },
  {
   "cell_type": "code",
   "execution_count": 332,
   "metadata": {},
   "outputs": [
    {
     "output_type": "execute_result",
     "data": {
      "text/plain": "166647.54387264702"
     },
     "metadata": {},
     "execution_count": 332
    }
   ],
   "source": [
    "Cd = 0.2\n",
    "V = np.sqrt((2*(m-Fb))/(A*Cd*rho))\n",
    "Re = V*d/nu\n",
    "Re"
   ]
  },
  {
   "cell_type": "code",
   "execution_count": 333,
   "metadata": {},
   "outputs": [
    {
     "output_type": "execute_result",
     "data": {
      "text/plain": "146159.56475132503"
     },
     "metadata": {},
     "execution_count": 333
    }
   ],
   "source": [
    "Cd = 0.26\n",
    "V = np.sqrt((2*(m-Fb))/(A*Cd*rho))\n",
    "Re = V*d/nu\n",
    "Re"
   ]
  },
  {
   "cell_type": "code",
   "execution_count": 334,
   "metadata": {},
   "outputs": [
    {
     "output_type": "execute_result",
     "data": {
      "text/plain": "132"
     },
     "metadata": {},
     "execution_count": 334
    }
   ],
   "source": [
    "Cd = 0.21\n",
    "V = np.sqrt((2*(m-Fb))/(A*Cd*rho))\n",
    "Re = V*d/nu\n",
    "h"
   ]
  },
  {
   "cell_type": "code",
   "execution_count": 335,
   "metadata": {},
   "outputs": [
    {
     "output_type": "execute_result",
     "data": {
      "text/plain": "4.973355557262665"
     },
     "metadata": {},
     "execution_count": 335
    }
   ],
   "source": [
    "h/V"
   ]
  },
  {
   "cell_type": "markdown",
   "metadata": {},
   "source": [
    "3.  A thin plastic panel is being lowered to the ocean floor at a speed of 2 m/s by a cable attached to thetop.  The panel is 3 m wide, 1 m high, and 3 mm thick and weighs 200 N in the air.  Find the tensionin the cable. (The tension should be between 70 and 100 N.)"
   ]
  },
  {
   "cell_type": "code",
   "execution_count": 336,
   "metadata": {},
   "outputs": [],
   "source": [
    "v = 1.8              # m/s\n",
    "w = 2.7              # m\n",
    "h = 0.85             # m\n",
    "A = 2*w*h            # Area of flat plate, multiplied by 2 to get both sides\n",
    "t = 0.003            # m\n",
    "Fair = 161           # N Weight in the air\n",
    "rho = 998            # kg/m^3\n",
    "nu = 1.004E-6        \n",
    "g = 9.81             # m/s^2"
   ]
  },
  {
   "cell_type": "code",
   "execution_count": 337,
   "metadata": {},
   "outputs": [
    {
     "output_type": "execute_result",
     "data": {
      "text/plain": "-70.21728695546778"
     },
     "metadata": {},
     "execution_count": 337
    }
   ],
   "source": [
    "Vol = w*h*t          # Volume of Panel\n",
    "Fb = rho*g*Vol       # Buoyancy force of submurged panel\n",
    "Re = v*h/nu          # Reynolds number\n",
    "Cf = 0.074/Re**(1/5) - 1740/Re # Coefficient of friction\n",
    "F = .5*v**2*Cf*A*rho # Force due to friction (drag is negligable)\n",
    "F+Fb-Fair            # Sum of the forces"
   ]
  },
  {
   "cell_type": "markdown",
   "metadata": {},
   "source": [
    "4.  You are designing an airplane that will have a maximum mass of 34,000 kg and a cruising speed of230 m/s at an altitude of 10,000 m.  It has a NACA 23012 airfoil with slotted flaps (for take-off) fora wing (see Fig.  11-45 and assume Fig.  11-48 also is representative of a 23012 airfoil).  It is to bedesigned to cruise at the minimum drag condition – about a 2◦angle of attack."
   ]
  },
  {
   "cell_type": "markdown",
   "metadata": {},
   "source": [
    "(a)  What planform area and power are required at cruise conditions?  (Ans:  between 80and 100 m2and between 1 and 2 MW)"
   ]
  },
  {
   "cell_type": "code",
   "execution_count": 338,
   "metadata": {},
   "outputs": [
    {
     "output_type": "execute_result",
     "data": {
      "text/plain": "75.99158553926686"
     },
     "metadata": {},
     "execution_count": 338
    }
   ],
   "source": [
    "m = 38000   # kg\n",
    "v = 245     # m/s\n",
    "P = 30.8E3  # Pa at 10,000 m\n",
    "Cd = 0.006  # Drag coefficient fig 11-45\n",
    "Cl = 0.35   # Lift coefficient fig 11-48\n",
    "g = 9.81    # m/s^2\n",
    "rho = 0.467 # kg/m^3\n",
    "A = 2*m*g/(rho*v**2*Cl)\n",
    "A"
   ]
  },
  {
   "cell_type": "code",
   "execution_count": 339,
   "metadata": {},
   "outputs": [
    {
     "output_type": "execute_result",
     "data": {
      "text/plain": "1.565676"
     },
     "metadata": {},
     "execution_count": 339
    }
   ],
   "source": [
    "P = .5*rho*v**3*A*Cd\n",
    "P/1E6"
   ]
  },
  {
   "cell_type": "markdown",
   "metadata": {},
   "source": [
    "(b)  For an 8◦angle of attack, determine the takeoff speed of the airplane at sea level. (Answill be under 65 m/s)"
   ]
  },
  {
   "cell_type": "code",
   "execution_count": 340,
   "metadata": {},
   "outputs": [
    {
     "output_type": "execute_result",
     "data": {
      "text/plain": "59.52253038011208"
     },
     "metadata": {},
     "execution_count": 340
    }
   ],
   "source": [
    "Cl = 2.3    # Lift coefficient\n",
    "Cd = 0.0085 # Drag coefficient\n",
    "rho = 1.204 # kg/m^3\n",
    "v = np.sqrt(2*m*g/(rho*Cl*A))\n",
    "v"
   ]
  },
  {
   "cell_type": "code",
   "execution_count": null,
   "metadata": {},
   "outputs": [],
   "source": []
  }
 ]
}