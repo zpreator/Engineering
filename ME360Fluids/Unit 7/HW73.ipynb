{
 "nbformat": 4,
 "nbformat_minor": 2,
 "metadata": {
  "language_info": {
   "name": "python",
   "codemirror_mode": {
    "name": "ipython",
    "version": 3
   },
   "version": "3.7.4-final"
  },
  "orig_nbformat": 2,
  "file_extension": ".py",
  "mimetype": "text/x-python",
  "name": "python",
  "npconvert_exporter": "python",
  "pygments_lexer": "ipython3",
  "version": 3,
  "kernelspec": {
   "name": "python3",
   "display_name": "Python 3"
  }
 },
 "cells": [
  {
   "cell_type": "markdown",
   "metadata": {},
   "source": [
    "Which the following is not a type drag force? "
   ]
  },
  {
   "cell_type": "markdown",
   "metadata": {},
   "source": [
    "*Surface tension drag*"
   ]
  },
  {
   "cell_type": "markdown",
   "metadata": {},
   "source": [
    "If a bicyclist exerting power of 100 watts on level ground has a cross-sectional area of 0.36 m² a drag coefficient of 0.88, what is the terminal velocity of the bicyclist?"
   ]
  },
  {
   "cell_type": "code",
   "execution_count": 14,
   "metadata": {},
   "outputs": [
    {
     "output_type": "execute_result",
     "data": {
      "text/plain": "8.063794383298703"
     },
     "metadata": {},
     "execution_count": 14
    }
   ],
   "source": [
    "import numpy as np\n",
    "P = 100 #W\n",
    "A = 0.36 #m^2\n",
    "Cd = 0.88\n",
    "rho = 1.204 #kg/m^3\n",
    "V = (2*P/(rho*Cd*A))**(1/3)\n",
    "V"
   ]
  },
  {
   "cell_type": "markdown",
   "metadata": {},
   "source": [
    "WRONG\n",
    "\n",
    "*Corrected*\n",
    "\n",
    "A 28 cm long, 17 cm wide smooth metal plate is being towed in water at a velocity of 31.1 m/s, with the flow parallel to the long dimension of the surface. What is the average skin friction coefficient? "
   ]
  },
  {
   "cell_type": "code",
   "execution_count": 32,
   "metadata": {},
   "outputs": [
    {
     "output_type": "execute_result",
     "data": {
      "text/plain": "0.002830215590594312"
     },
     "metadata": {},
     "execution_count": 32
    }
   ],
   "source": [
    "x = 0.28\n",
    "V = 31.1\n",
    "nu = 1.004e-6\n",
    "Rex = V*x/nu\n",
    "Cft = 0.074/Rex**(1/5)-1742/Rex #Corrected\n",
    "Cft"
   ]
  },
  {
   "cell_type": "markdown",
   "metadata": {},
   "source": [
    "Part of a processing system consists of a flat paddle 18 in. long and 23.5 in. wide that that skims along the surface of a tank containing a liquid mixture for food processing. The liquid is at 40°F and has a viscosity of 5.8E-6 ft²/s, and the paddle moves at 2.6 ft/s. The leading edge of the paddle has a wire mesh on it, tripping the boundary layer. What is the boundary layer thickness at the trailing edge of the paddle? "
   ]
  },
  {
   "cell_type": "code",
   "execution_count": 16,
   "metadata": {},
   "outputs": [
    {
     "output_type": "execute_result",
     "data": {
      "text/plain": "0.4672279115453613"
     },
     "metadata": {},
     "execution_count": 16
    }
   ],
   "source": [
    "L = 18/12 #ft\n",
    "V = 2.6 #ft/s\n",
    "nu = 5.8e-6\n",
    "Rel = L*V/nu\n",
    "0.38*L/(Rel**(1/5))*12 #ft to in"
   ]
  },
  {
   "cell_type": "markdown",
   "metadata": {},
   "source": [
    "A 20 cm long, 15 cm wide smooth metal plate is being towed in water at a velocity of 6.5 m/s, with the flow parallel to the long dimension of the surface. If the Reynolds number at the trailing edge of the plate is 1,150,000, what is the friction drag acting on one surface of the plate? "
   ]
  },
  {
   "cell_type": "code",
   "execution_count": 17,
   "metadata": {},
   "outputs": [
    {
     "output_type": "execute_result",
     "data": {
      "text/plain": "1.9174720133708765"
     },
     "metadata": {},
     "execution_count": 17
    }
   ],
   "source": [
    "A = 0.20*0.15\n",
    "V = 6.5\n",
    "Re = 1150000\n",
    "Cf = 0.074/(Re**(1/5)) - 1742/Re\n",
    "rho = 1000\n",
    "rho*V**2*Cf*A/2"
   ]
  },
  {
   "cell_type": "markdown",
   "metadata": {},
   "source": [
    "A 20 cm diameter smooth sphere is propelled through the air with a Reynolds number of 200,000. The drag force acting on the sphere is 1.78 N. If the speed of the sphere were doubled, what drag force would act on the sphere? "
   ]
  },
  {
   "cell_type": "code",
   "execution_count": 21,
   "metadata": {},
   "outputs": [
    {
     "output_type": "execute_result",
     "data": {
      "text/plain": "1.4240000000000002"
     },
     "metadata": {},
     "execution_count": 21
    }
   ],
   "source": [
    "d = 0.2 #m\n",
    "Re = 200000\n",
    "F = 1.78 #N\n",
    "rhoa = 1.204 #kg/m^3\n",
    "nu = 1.516E-5 #m^2/s\n",
    "Cd1 = 0.4\n",
    "A = np.pi/4*d**2\n",
    "v1 = np.sqrt(2*F/(rhoa*Cd1*A))\n",
    "v2 = 2*v1\n",
    "Re2 = v2*d/nu\n",
    "Cd2 = 0.08\n",
    ".5*rhoa*v2**2*Cd2*A"
   ]
  },
  {
   "cell_type": "markdown",
   "metadata": {},
   "source": [
    "An airplane with a planform area of 18.9 m² is in level flight at a speed of 110 m/s. If the air density is 0.72 kg/m³ and the lift coefficient is 0.8, the weight of the plane in N is"
   ]
  },
  {
   "cell_type": "code",
   "execution_count": 22,
   "metadata": {},
   "outputs": [
    {
     "output_type": "execute_result",
     "data": {
      "text/plain": "263450.88"
     },
     "metadata": {},
     "execution_count": 22
    }
   ],
   "source": [
    "A = 18.9 #m^2\n",
    "v = 220 #m/s\n",
    "rho = 0.72 #kg/m^3\n",
    "Cl = 0.8\n",
    ".5*rho*v**2*Cl*A"
   ]
  },
  {
   "cell_type": "markdown",
   "metadata": {},
   "source": [
    "A sign with the cross-sectional area of 6.9 m² is fastened at the top of a 3 m tall pole. The sign is made of thin circular disk of metal. When the wind is striking the face of the signed directly at a velocity of 37 m/s, what is the bending moment in N-m at the base of the pole due to aerodynamic drag? "
   ]
  },
  {
   "cell_type": "code",
   "execution_count": 25,
   "metadata": {},
   "outputs": [
    {
     "output_type": "execute_result",
     "data": {
      "text/plain": "18765.622260000004"
     },
     "metadata": {},
     "execution_count": 25
    }
   ],
   "source": [
    "A = 6.9 #m^2\n",
    "L = 3 #m\n",
    "v = 37 #m/s\n",
    "Cd = 1.1\n",
    "rho = 1.204\n",
    "F = .5*rho*v**2*A*Cd\n",
    "M = F*L\n",
    "M"
   ]
  },
  {
   "cell_type": "markdown",
   "metadata": {},
   "source": [
    "What is the percent decrease in drag force for a golf ball (D = 1.68 inches) traveling at 85 mph compared to a smooth ball at the same conditions? "
   ]
  },
  {
   "cell_type": "code",
   "execution_count": 27,
   "metadata": {},
   "outputs": [
    {
     "output_type": "execute_result",
     "data": {
      "text/plain": "106968.75"
     },
     "metadata": {},
     "execution_count": 27
    }
   ],
   "source": [
    "v = 85 #mph\n",
    "v *= 1.467\n",
    "nu = 1.632E-4\n",
    "rho = 0.07518/32.2 \n",
    "d = 1.68/12 #ft\n",
    "Re = v*d/nu\n",
    "Re"
   ]
  },
  {
   "cell_type": "code",
   "execution_count": 28,
   "metadata": {},
   "outputs": [
    {
     "output_type": "execute_result",
     "data": {
      "text/plain": "0.5490196078431373"
     },
     "metadata": {},
     "execution_count": 28
    }
   ],
   "source": [
    "CdG = 0.23\n",
    "CdS = 0.51\n",
    "1-.23/.51"
   ]
  },
  {
   "cell_type": "markdown",
   "metadata": {},
   "source": [
    "An airplane with a NACA 23015 airfoil with a wingspan of 16.6 m² is flying an altitude where the density is 0.93 kg/m³. If a lift force of 26,500 N is required, what is the minimum velocity at which the airplane can fly?"
   ]
  },
  {
   "cell_type": "code",
   "execution_count": 29,
   "metadata": {},
   "outputs": [
    {
     "output_type": "execute_result",
     "data": {
      "text/plain": "44.67640230526154"
     },
     "metadata": {},
     "execution_count": 29
    }
   ],
   "source": [
    "A = 16.6 #m^2\n",
    "rho = 0.93\n",
    "F = 26500 #N\n",
    "Cl = 1.72\n",
    "V = np.sqrt(2*F/(rho*A*Cl))\n",
    "V"
   ]
  },
  {
   "cell_type": "code",
   "execution_count": null,
   "metadata": {},
   "outputs": [],
   "source": []
  }
 ]
}