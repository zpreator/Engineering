{
 "nbformat": 4,
 "nbformat_minor": 2,
 "metadata": {
  "language_info": {
   "name": "python",
   "codemirror_mode": {
    "name": "ipython",
    "version": 3
   },
   "version": "3.7.4-final"
  },
  "orig_nbformat": 2,
  "file_extension": ".py",
  "mimetype": "text/x-python",
  "name": "python",
  "npconvert_exporter": "python",
  "pygments_lexer": "ipython3",
  "version": 3,
  "kernelspec": {
   "name": "python3",
   "display_name": "Python 3"
  }
 },
 "cells": [
  {
   "cell_type": "markdown",
   "metadata": {},
   "source": [
    "PM 2.5 pollution is a form of pollution that can cause lung disease. The name refers to the size–approximately spherical particles which are about 2.5 µm in diameter. If the Reynolds number is 9.54E-5, what is the drag force (in picoNewtons) acting on one of these particles if the settling rate is 208 cm/h? "
   ]
  },
  {
   "cell_type": "code",
   "execution_count": 2,
   "metadata": {},
   "outputs": [],
   "source": [
    "import numpy as np\n",
    "d = 2.5*10E-6\n",
    "Re = 9.54E-5\n",
    "v = 208 #cm/h\n",
    "v /= 360000 #m/s\n",
    "A = np.pi*d**2/4\n",
    "rho = 1.204 #kg/m^3"
   ]
  },
  {
   "cell_type": "code",
   "execution_count": 4,
   "metadata": {},
   "outputs": [
    {
     "output_type": "execute_result",
     "data": {
      "text/plain": "2.48170939817469e-11"
     },
     "metadata": {},
     "execution_count": 4
    }
   ],
   "source": [
    "Cd = 24/Re\n",
    "Fd = 0.5*rho*v**2*Cd*A\n",
    "Fd"
   ]
  },
  {
   "cell_type": "markdown",
   "metadata": {},
   "source": [
    "At the design point for a certain airfoil, the lift coefficient is 0.55. If an airplane is to be designed to fly at an altitude where the density is 0.048 lbm/ft³ with a maximum gross weight of 21,000 lbf at a cruise speed of 260 mph, be what should the planform area of the wings be? "
   ]
  },
  {
   "cell_type": "code",
   "execution_count": 9,
   "metadata": {},
   "outputs": [],
   "source": [
    "Cl = 0.55\n",
    "rho = 0.048 #lbm/ft^3\n",
    "W = 21000 #lbf\n",
    "V = 260 #mph"
   ]
  },
  {
   "cell_type": "code",
   "execution_count": 10,
   "metadata": {},
   "outputs": [],
   "source": [
    "V *= 1.467 # ft/s\n",
    "rho /= 32.174 # lbf s^2/ft^4"
   ]
  },
  {
   "cell_type": "markdown",
   "metadata": {},
   "source": [
    "$$\n",
    "F_L=1/2 \\rho V^2 C_L A\n",
    "$$"
   ]
  },
  {
   "cell_type": "markdown",
   "metadata": {},
   "source": [
    "Solving for A\n",
    "\n",
    "$$\n",
    "A=\\frac{2F_L}{\\rho V^2 C_L}\n",
    "$$"
   ]
  },
  {
   "cell_type": "code",
   "execution_count": 11,
   "metadata": {},
   "outputs": [
    {
     "output_type": "execute_result",
     "data": {
      "text/plain": "351.8386109047483"
     },
     "metadata": {},
     "execution_count": 11
    }
   ],
   "source": [
    "A = 2*W/(rho*V**2*Cl)\n",
    "A"
   ]
  },
  {
   "cell_type": "markdown",
   "metadata": {},
   "source": [
    "# Wrong"
   ]
  },
  {
   "cell_type": "markdown",
   "metadata": {},
   "source": [
    "Part of a processing system consists of a flat paddle 16 in. long and 15.5 in. wide that that skims along the surface of a tank containing a liquid mixture for food processing. The liquid is at 40°F and has a kinematic viscosity of 4.5E-6 ft²/s, and the paddle moves at 2.4 ft/s. The leading edge of the paddle has a wire mesh on it, tripping the boundary layer. What is the average skin friction coefficient acting on the paddle? "
   ]
  },
  {
   "cell_type": "code",
   "execution_count": 15,
   "metadata": {},
   "outputs": [],
   "source": [
    "L = 16 #in\n",
    "x = 15.5 #in\n",
    "nu = 4.5E-6 #ft^2/s\n",
    "V = 2.4 #ft/s"
   ]
  },
  {
   "cell_type": "code",
   "execution_count": 17,
   "metadata": {},
   "outputs": [
    {
     "output_type": "execute_result",
     "data": {
      "text/plain": "0.003040940884606867"
     },
     "metadata": {},
     "execution_count": 17
    }
   ],
   "source": [
    "Re = V*L/nu\n",
    "Cf = 0.074/Re**(1/5)\n",
    "Cf\n",
    "# Answer should be 0.00500"
   ]
  },
  {
   "cell_type": "markdown",
   "metadata": {},
   "source": [
    "For flow over a sphere, increasing roughness of the sphere"
   ]
  },
  {
   "cell_type": "markdown",
   "metadata": {},
   "source": [
    "1. Causes the flow to travel farther around the sphere before separating"
   ]
  },
  {
   "cell_type": "markdown",
   "metadata": {},
   "source": [
    "An oak tree with a height of 26.5 feet and an average width of 20.1 feet is in a windstorm with gusts of 60 mph. If the drag coefficient at these speeds is 0.5, what is the force on the oak tree?"
   ]
  },
  {
   "cell_type": "code",
   "execution_count": 21,
   "metadata": {},
   "outputs": [],
   "source": [
    "h = 26.5 #ft\n",
    "w = 20.1 #ft\n",
    "v = 60 #mph\n",
    "Cd = 0.5\n",
    "rhoa = 0.07518 #lbm/ft^3"
   ]
  },
  {
   "cell_type": "code",
   "execution_count": 22,
   "metadata": {},
   "outputs": [],
   "source": [
    "v *= 1.467 #ft/s\n",
    "A = h*w #ft^2\n",
    "rhoa /= 32.174 #lbf s^2/ft^4"
   ]
  },
  {
   "cell_type": "code",
   "execution_count": 23,
   "metadata": {},
   "outputs": [
    {
     "output_type": "execute_result",
     "data": {
      "text/plain": "2410.693141922756"
     },
     "metadata": {},
     "execution_count": 23
    }
   ],
   "source": [
    "F = 1/2*rhoa*v**2*Cd*A\n",
    "F"
   ]
  },
  {
   "cell_type": "markdown",
   "metadata": {},
   "source": [
    "Air is flowing along a 68 cm-long paper-covered surface at a velocity of 6.4 m/s. If the Reynolds number, ReL, is 250,000 and the air density is 1.2 kg/m³, what is the friction drag per unit width acting on the paper-covered surface? "
   ]
  },
  {
   "cell_type": "code",
   "execution_count": 33,
   "metadata": {},
   "outputs": [],
   "source": [
    "L = 68 #cm\n",
    "v = 6.4 #m/s\n",
    "Re_L = 250000\n",
    "rhoa = 1.2 #kg/m^3"
   ]
  },
  {
   "cell_type": "code",
   "execution_count": 34,
   "metadata": {},
   "outputs": [],
   "source": [
    "A = L/100 #Per unit width means w = 1 or L*w = A\n",
    "Cf = 0.074/Re_L**(1/5)\n",
    "# Cf = (1.89 - 1.62*np.log10())"
   ]
  },
  {
   "cell_type": "code",
   "execution_count": 35,
   "metadata": {},
   "outputs": [
    {
     "output_type": "execute_result",
     "data": {
      "text/plain": "0.10295888460954566"
     },
     "metadata": {},
     "execution_count": 35
    }
   ],
   "source": [
    "Fd = 1/2*rhoa*v**2*Cf*A\n",
    "Fd"
   ]
  },
  {
   "cell_type": "markdown",
   "metadata": {},
   "source": [
    "An airplane with a NACA 23015 airfoil with a wingspan of 15.7 m² is flying an altitude where the density is 1.02 kg/m³. If a lift force of 33,500 N is required, what is the minimum velocity at which the airplane can fly?"
   ]
  },
  {
   "cell_type": "code",
   "execution_count": 46,
   "metadata": {},
   "outputs": [],
   "source": [
    "A = 15.7 #m^2\n",
    "rhoa = 1.02 #kg/m^3\n",
    "F = 33500 #N"
   ]
  },
  {
   "cell_type": "code",
   "execution_count": 44,
   "metadata": {},
   "outputs": [],
   "source": [
    "CL = 1.72"
   ]
  },
  {
   "cell_type": "code",
   "execution_count": 47,
   "metadata": {},
   "outputs": [
    {
     "output_type": "execute_result",
     "data": {
      "text/plain": "49.320022472786725"
     },
     "metadata": {},
     "execution_count": 47
    }
   ],
   "source": [
    "V = np.sqrt(2*F/(rhoa*CL*A))\n",
    "V"
   ]
  },
  {
   "cell_type": "markdown",
   "metadata": {},
   "source": [
    "80°C air is flowing along a 47 cm-long paper-covered surface at a velocity of 5 m/s. What is the boundary layer thickness at the midpoint of the surface?"
   ]
  },
  {
   "cell_type": "code",
   "execution_count": 48,
   "metadata": {},
   "outputs": [],
   "source": [
    "T = 80 #C\n",
    "L = 47 #cm\n",
    "V = 5 #m/s"
   ]
  },
  {
   "cell_type": "code",
   "execution_count": 49,
   "metadata": {},
   "outputs": [
    {
     "output_type": "execute_result",
     "data": {
      "text/plain": "112064.85455412492"
     },
     "metadata": {},
     "execution_count": 49
    }
   ],
   "source": [
    "T += 273 #K\n",
    "L /= 100 #m\n",
    "nu = 2.097E-5\n",
    "Re = V*L/nu\n",
    "Re"
   ]
  },
  {
   "cell_type": "code",
   "execution_count": 50,
   "metadata": {},
   "outputs": [
    {
     "output_type": "execute_result",
     "data": {
      "text/plain": "0.006893577050994645"
     },
     "metadata": {},
     "execution_count": 50
    }
   ],
   "source": [
    "# Laminar (Re < 500000)\n",
    "delta = 4.91*L/Re**(1/2)\n",
    "delta"
   ]
  },
  {
   "cell_type": "markdown",
   "metadata": {},
   "source": [
    "A 3 millimeter diameter glass bead falls through water at a speed of 2.7 centimeters per second. What is the drag coefficient of the bead?"
   ]
  },
  {
   "cell_type": "code",
   "execution_count": 52,
   "metadata": {},
   "outputs": [],
   "source": [
    "d = 0.003 #m\n",
    "v = 2.7 #cm/s\n",
    "nu = 1.004E-6"
   ]
  },
  {
   "cell_type": "code",
   "execution_count": 53,
   "metadata": {},
   "outputs": [
    {
     "output_type": "execute_result",
     "data": {
      "text/plain": "80.6772908366534"
     },
     "metadata": {},
     "execution_count": 53
    }
   ],
   "source": [
    "v /= 100 #m/s\n",
    "Re = d*v/nu\n",
    "Re"
   ]
  },
  {
   "cell_type": "code",
   "execution_count": 54,
   "metadata": {},
   "outputs": [],
   "source": [
    "#Laminar\n",
    "Cd = 1.2 #From chart"
   ]
  },
  {
   "cell_type": "markdown",
   "metadata": {},
   "source": [
    "Seventh South has a slope of approximately 1.5°. If a coasting vehicle with a cross-sectional area 3.8 m² and a mass of 1,600 kg can achieve a terminal velocity of 29 m/s, what is the drag coefficient of the vehicle assuming aerodynamic drag is the dominant force counteracting the weight of the vehicle? Assume the air density in Rexburg is 1.0 kg/m³ "
   ]
  },
  {
   "cell_type": "code",
   "execution_count": 55,
   "metadata": {},
   "outputs": [],
   "source": [
    "theta = 1.5 #degrees\n",
    "A = 3.8 #m^2\n",
    "m = 1600 #kg\n",
    "v = 29 #m/s"
   ]
  },
  {
   "cell_type": "code",
   "execution_count": 56,
   "metadata": {},
   "outputs": [],
   "source": [
    "Answer = 0.26"
   ]
  }
 ]
}