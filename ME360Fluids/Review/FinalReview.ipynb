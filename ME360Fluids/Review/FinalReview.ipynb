{
 "cells": [
  {
   "cell_type": "markdown",
   "metadata": {},
   "source": [
    "# Fluid Dynamics Final Review\n",
    "***\n",
    "## Unit 1\n",
    "#### Topics\n",
    "***\n",
    "* Units\n",
    "* Specific Gravity, specific weight\n",
    "* Ideal Gas\n",
    "* Speed of sound, Mach No. ($\\checkmark$)\n",
    "* Shear force (non-linear $V$) ($\\checkmark$)\n",
    "* dynamic viscosity\n",
    "* kinematic viscosity\n",
    "* surface tension and capillary effect ($\\checkmark$)\n",
    "* vapor pressure"
   ]
  },
  {
   "cell_type": "markdown",
   "metadata": {},
   "source": [
    "#### Some EQs\n",
    "***\n",
    "* $c = \\sqrt{kRT}$\n",
    "* $\\tau = \\mu \\frac{du}{dy}$\n",
    "* $F_{\\sigma} = \\sigma_s l \\cos \\phi$\n",
    "* $h = \\frac{2 \\sigma_s}{\\rho g R}\\cos \\phi$"
   ]
  },
  {
   "cell_type": "markdown",
   "metadata": {},
   "source": [
    "A 300 m long sealed pipe is filled with hydrogen gas at 200°C. How long will it take a sound wave to travel from one end of the pipe to the other through the hydrogen?"
   ]
  },
  {
   "cell_type": "code",
   "execution_count": 1,
   "metadata": {},
   "outputs": [],
   "source": [
    "import numpy as np"
   ]
  },
  {
   "cell_type": "code",
   "execution_count": null,
   "metadata": {},
   "outputs": [],
   "source": [
    "R = 4.124\n",
    "k = 1.405\n",
    "c = np.sqrt(k*R*(200+273))\n"
   ]
  },
  {
   "cell_type": "markdown",
   "metadata": {},
   "source": [
    "## Unit 2\n",
    "#### Topics\n",
    "***\n",
    "* pressure force\n",
    "* atm, gage, and abs $P$\n",
    "* pressure at depth\n",
    "* std atm\n",
    "* manometers\n",
    "* $F_R$ ($\\checkmark$)\n",
    "* $y_c − h_c$\n",
    "* $y_p$ ($\\checkmark$)\n",
    "* moments ($\\checkmark$)\n",
    "* buoyant force ($\\checkmark$)\n"
   ]
  },
  {
   "cell_type": "markdown",
   "metadata": {},
   "source": [
    "#### Some EQs\n",
    "***\n",
    "* $F_R = \\rho g h_C A = \\gamma h_C A$\n",
    "* $y_p - y_C = \\frac{I_{xx,C}}{y_C A}$\n",
    "* $F_b = \\rho_f g V_{sub}$ ($V$ is volume, not velocity)"
   ]
  },
  {
   "cell_type": "code",
   "execution_count": null,
   "metadata": {},
   "outputs": [],
   "source": []
  },
  {
   "cell_type": "markdown",
   "metadata": {},
   "source": [
    "## Unit 3\n",
    "#### Topics\n",
    "***\n",
    "* velocity\n",
    "* acceleration ($\\checkmark$)\n",
    "* vorticity ($\\checkmark$)\n",
    "* stream/streak/pathlines\n",
    "* cons of mass ($\\checkmark$)\n",
    "* pumps and efficiency\n",
    "* Bernoulli ($\\checkmark$)\n",
    "* energy ($\\checkmark$)"
   ]
  },
  {
   "cell_type": "markdown",
   "metadata": {},
   "source": [
    "#### Some EQs\n",
    "***\n",
    "* $\\dot{m} = \\rho V A$\n",
    "* $\\frac{P_1}{\\rho g} + \\alpha_1 \\frac{{V_1}^2}{2g} + z_1 + h_P = \\frac{P_2}{\\rho g} + \\alpha_2 \\frac{{V_2}^2}{2g} + z_2 + h_T + h_L$"
   ]
  },
  {
   "cell_type": "code",
   "execution_count": null,
   "metadata": {},
   "outputs": [],
   "source": []
  },
  {
   "cell_type": "markdown",
   "metadata": {},
   "source": [
    "## Unit 4\n",
    "#### Topics\n",
    "***\n",
    "* fluid momentum\n",
    "* pressure force\n",
    "* relative velocity\n",
    "* thrust and acceleration\n",
    "* momentum eqn ($\\checkmark$)"
   ]
  },
  {
   "cell_type": "markdown",
   "metadata": {},
   "source": [
    "#### Some EQs\n",
    "***\n",
    "* $\\Sigma F_x = \\sum_{out}\\beta \\dot{m}V_x - \\sum_{in}\\beta \\dot{m}V_x$"
   ]
  },
  {
   "cell_type": "code",
   "execution_count": null,
   "metadata": {},
   "outputs": [],
   "source": []
  },
  {
   "cell_type": "markdown",
   "metadata": {},
   "source": [
    "## Unit 5\n",
    "#### Topics\n",
    "***\n",
    "* number of dimensions\n",
    "* dimless groups ($\\checkmark$)\n",
    "* dim of variables\n",
    "* similarity-indep groups ($\\checkmark$)\n",
    "* similarity-dep groups ($\\checkmark$)"
   ]
  },
  {
   "cell_type": "markdown",
   "metadata": {},
   "source": [
    "#### Some EQs\n",
    "***\n",
    "* Remember similarity\n",
    "* If $\\left.\\Pi\\right|_m = \\left.\\Pi\\right|_p$ is true for all independent Pi groups, then dependent Pi group will also be equal\n",
    "* Ex: If $C_D = f(Re)$ then if $\\left.\\frac{V D}{\\nu}\\right|_m = \\left.\\frac{V D}{\\nu}\\right|_p$ then $\\left.C_D\\right|_m = \\left.C_D\\right|_p$"
   ]
  },
  {
   "cell_type": "code",
   "execution_count": null,
   "metadata": {},
   "outputs": [],
   "source": []
  },
  {
   "cell_type": "markdown",
   "metadata": {},
   "source": [
    "## Unit 6\n",
    "#### Topics\n",
    "***\n",
    "* friction factor ($\\checkmark$)\n",
    "* flow classification\n",
    "* head loss ($\\checkmark$)\n",
    "* minor losses\n",
    "* pressure drop/non-iterative ($\\checkmark$)\n",
    "* pump and sys curve ($\\checkmark$)\n",
    "* similarity laws\n",
    "* pump scaling ($\\checkmark$)\n",
    "* wind turbines\n",
    "* pump power"
   ]
  },
  {
   "cell_type": "markdown",
   "metadata": {},
   "source": [
    "#### Some EQs\n",
    "***\n",
    "* $f = \\frac{64}{Re}$ (laminar)\n",
    "* $f = \\frac{18/11}{\\left\\{\\ln\\left[\\left(\\frac{\\varepsilon/D}{3.7}\\right)^{1.11} + \\frac{6.9}{Re_D}\\right]\\right\\}^2}$ (turbulent)\n",
    "* $h_L = f \\frac{L}{D} \\frac{V^2}{2g}$ or $h_L = \\left(\\frac{f L}{D} + \\Sigma K_L\\right)\\frac{V^2}{2g}$"
   ]
  },
  {
   "cell_type": "code",
   "execution_count": null,
   "metadata": {},
   "outputs": [],
   "source": []
  },
  {
   "cell_type": "markdown",
   "metadata": {},
   "source": [
    "## Unit 7\n",
    "#### Topics\n",
    "***\n",
    "* drag force and drag coeff. ($\\checkmark$)\n",
    "* miscellaneous drag\n",
    "* terminal velocity ($\\checkmark$)\n",
    "* spheres and cylinders ($\\checkmark$)\n",
    "* flow separation\n",
    "* streamlining\n",
    "* flat plate BL thickness\n",
    "* flat plate $C_f$\n",
    "* flat plate drag ($\\checkmark$)\n",
    "* lift\n",
    "* $C_L$ charts"
   ]
  },
  {
   "cell_type": "markdown",
   "metadata": {},
   "source": [
    "#### Some EQs\n",
    "***\n",
    "* $F_D = \\frac{1}{2}\\rho V^2 C_D A$\n",
    "* It's basically the same equation for lift, just change the $D$ to a $L$\n",
    "* $C_f = \\frac{1.33}{{Re_L}^{1/2}}$ (lamiar, ie $Re < 500000$)\n",
    "* $C_f = \\frac{0.074}{{Re_L}^{1/5}} - \\frac{1742}{Re_L}$ (transitional, ie $Re > 500000$)\n",
    "* $C_f = \\frac{0.074}{{Re_L}^{1/5}}$ (tripped turbulent, separated boundary layer)"
   ]
  },
  {
   "cell_type": "code",
   "execution_count": null,
   "metadata": {},
   "outputs": [],
   "source": []
  }
 ],
 "metadata": {
  "kernelspec": {
   "display_name": "Python 3 (Spyder)",
   "language": "python3",
   "name": "python3"
  },
  "language_info": {
   "codemirror_mode": {
    "name": "ipython",
    "version": 3
   },
   "file_extension": ".py",
   "mimetype": "text/x-python",
   "name": "python",
   "nbconvert_exporter": "python",
   "pygments_lexer": "ipython3",
   "version": "3.7.4"
  }
 },
 "nbformat": 4,
 "nbformat_minor": 2
}
