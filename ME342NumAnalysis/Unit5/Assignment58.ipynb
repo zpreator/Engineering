{
 "nbformat": 4,
 "nbformat_minor": 2,
 "metadata": {
  "language_info": {
   "name": "python",
   "codemirror_mode": {
    "name": "ipython",
    "version": 3
   },
   "version": "3.7.4-final"
  },
  "orig_nbformat": 2,
  "file_extension": ".py",
  "mimetype": "text/x-python",
  "name": "python",
  "npconvert_exporter": "python",
  "pygments_lexer": "ipython3",
  "version": 3,
  "kernelspec": {
   "name": "python3",
   "display_name": "Python 3"
  }
 },
 "cells": [
  {
   "cell_type": "markdown",
   "metadata": {},
   "source": [
    "# Finite Differencing Method"
   ]
  },
  {
   "cell_type": "code",
   "execution_count": 2,
   "metadata": {},
   "outputs": [],
   "source": [
    "import scipy.linalg as linalg\n",
    "import numpy as np"
   ]
  },
  {
   "cell_type": "code",
   "execution_count": null,
   "metadata": {},
   "outputs": [],
   "source": [
    "# Matrix A\n",
    "c = -2\n",
    "a = -1\n",
    "A = [[1,0,0,0,0,0]\n",
    "     [1,c,1,0,0,0]\n",
    "     [0,1,c,1,0,0]\n",
    "     [0,0,1,c,1,0]\n",
    "     [0,0,0,1,c,1]\n",
    "     [0,0,0,0,a,1]]\n",
    "A = np.array(A)\n",
    "B = [[500,\n",
    "      ]]"
   ]
  }
 ]
}