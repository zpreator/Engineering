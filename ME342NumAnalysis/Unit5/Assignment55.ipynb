{
 "nbformat": 4,
 "nbformat_minor": 2,
 "metadata": {
  "language_info": {
   "name": "python",
   "codemirror_mode": {
    "name": "ipython",
    "version": 3
   },
   "version": "3.7.4-final"
  },
  "orig_nbformat": 2,
  "file_extension": ".py",
  "mimetype": "text/x-python",
  "name": "python",
  "npconvert_exporter": "python",
  "pygments_lexer": "ipython3",
  "version": 3,
  "kernelspec": {
   "name": "python3",
   "display_name": "Python 3"
  }
 },
 "cells": [
  {
   "cell_type": "code",
   "execution_count": 4,
   "metadata": {},
   "outputs": [],
   "source": [
    "from sympy import *\n",
    "init_printing(use_unicode=True, wrap_line=False)"
   ]
  },
  {
   "cell_type": "code",
   "execution_count": 7,
   "metadata": {},
   "outputs": [
    {
     "output_type": "execute_result",
     "data": {
      "text/plain": "                                                   2\n           d              -88.8888888888889⋅(x - 2) \n0.6⋅f(x) + ──(f(x)) = 10⋅ℯ                          \n           dx                                       ",
      "image/png": "[encoded data removed]",
      "text/latex": "$\\displaystyle 0.6 f{\\left(x \\right)} + \\frac{d}{d x} f{\\left(x \\right)} = 10 e^{- 88.8888888888889 \\left(x - 2\\right)^{2}}$"
     },
     "metadata": {},
     "execution_count": 7
    }
   ],
   "source": [
    "x = symbols('x')\n",
    "f = symbols('f', cls=Function)\n",
    "diffEq = Eq(f(x).diff(x) + 0.6*f(x), 10*exp(-(x-2)**2/(2*(0.075)**2)))\n",
    "diffEq"
   ]
  },
  {
   "cell_type": "code",
   "execution_count": 9,
   "metadata": {},
   "outputs": [],
   "source": [
    "sol = dsolve(diffEq, f(x))\n",
    "# Do not run will take 5ever"
   ]
  },
  {
   "cell_type": "code",
   "execution_count": 10,
   "metadata": {},
   "outputs": [
    {
     "output_type": "execute_result",
     "data": {
      "text/plain": "       ⎛                          ⌠                                             ⎞        \n       ⎜                          ⎮                                         2   ⎟        \n       ⎜                          ⎮  356.155555555556⋅x  -88.8888888888889⋅x    ⎟  -0.6⋅x\nf(x) = ⎜C₁ + 3.8387003489637e-154⋅⎮ ℯ                  ⋅ℯ                     dx⎟⋅ℯ      \n       ⎝                          ⌡                                             ⎠        ",
      "image/png": "[encoded data removed]",
      "text/latex": "$\\displaystyle f{\\left(x \\right)} = \\left(C_{1} + 3.8387003489637 \\cdot 10^{-154} \\int e^{356.155555555556 x} e^{- 88.8888888888889 x^{2}}\\, dx\\right) e^{- 0.6 x}$"
     },
     "metadata": {},
     "execution_count": 10
    }
   ],
   "source": [
    "sol"
   ]
  },
  {
   "cell_type": "code",
   "execution_count": null,
   "metadata": {},
   "outputs": [],
   "source": []
  }
 ]
}