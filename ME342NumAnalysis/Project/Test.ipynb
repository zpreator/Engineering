{
 "nbformat": 4,
 "nbformat_minor": 2,
 "metadata": {
  "language_info": {
   "name": "python",
   "codemirror_mode": {
    "name": "ipython",
    "version": 3
   },
   "version": "3.7.4-final"
  },
  "orig_nbformat": 2,
  "file_extension": ".py",
  "mimetype": "text/x-python",
  "name": "python",
  "npconvert_exporter": "python",
  "pygments_lexer": "ipython3",
  "version": 3,
  "kernelspec": {
   "name": "python3",
   "display_name": "Python 3"
  }
 },
 "cells": [
  {
   "cell_type": "code",
   "execution_count": 2,
   "metadata": {},
   "outputs": [],
   "source": [
    "import numpy as np\n",
    "\"\"\"Zachary Preator\n",
    "\"\"\"\n",
    "# Constants/Givens\n",
    "T     = 280          # Kelvin (temperature in Rexburg)\n",
    "Pa    = 84800        # Kpa (air pressure in rexburg gage)\n",
    "R     = 0.287        # Gas constant (Unitless)\n",
    "g     = 9.807        # m/s^2\n",
    "D     = 4.2          # in (Diameter of 2 liter bottle)\n",
    "mb    = 60           # g (mass of empty bottle)\n",
    "Cd    = 0.82         # Coefficient of drag (Unitless)\n",
    "rhow  = 998          # kg/m^3 (water density)\n",
    "Vtot  = 2            # L (2 liter bottle)\n",
    "\n",
    "# Calculations/Conversions\n",
    "rhoa  = Pa/(R*T)     # kg/m^3 (air density in Rexburg)\n",
    "Ab    = np.pi*D**2/4 # m^2 (cross sectional area of bottle)\n",
    "Vtot /= 1000         # L to m^3 (initial volume of water)\n",
    "mb   /= 1000         # g to kg (mass of empty bottle)\n",
    "D    /= 39.37        # in to m (Diameter of 2 liter bottle)\n",
    "\n",
    "P0 = 636400\n",
    "VolaOld = "
   ]
  },
  {
   "cell_type": "code",
   "execution_count": null,
   "metadata": {},
   "outputs": [],
   "source": [
    "def MassFlowRate(mw):\n",
    "    global P0, VolaOld\n",
    "    Volw=mw/rhow\n",
    "    Vola = Vtot - Volw\n",
    "    Pnext = P0*()"
   ]
  }
 ]
}